{
 "cells": [
  {
   "cell_type": "code",
   "execution_count": 5,
   "id": "7cdc0c63",
   "metadata": {},
   "outputs": [],
   "source": [
    "import pandas as pd\n",
    "import numpy as np\n",
    "\n",
    "import matplotlib.pyplot as plt\n",
    "\n",
    "from datetime import datetime\n",
    "\n",
    "from vega_datasets import data\n"
   ]
  },
  {
   "cell_type": "code",
   "execution_count": 3,
   "id": "063981ce",
   "metadata": {},
   "outputs": [
    {
     "data": {
      "text/plain": [
       "Timestamp('2020-03-12 00:00:00')"
      ]
     },
     "execution_count": 3,
     "metadata": {},
     "output_type": "execute_result"
    }
   ],
   "source": [
    "date = pd.Timestamp(month=3, day=12, year=2020)\n",
    "date"
   ]
  },
  {
   "cell_type": "code",
   "execution_count": 6,
   "id": "283a7667",
   "metadata": {},
   "outputs": [
    {
     "data": {
      "text/plain": [
       "datetime.datetime(2020, 2, 12, 0, 0)"
      ]
     },
     "execution_count": 6,
     "metadata": {},
     "output_type": "execute_result"
    }
   ],
   "source": [
    "date = datetime(month=2, day=12, year=2020)\n",
    "date"
   ]
  },
  {
   "cell_type": "markdown",
   "id": "bbfb6269",
   "metadata": {},
   "source": [
    "### use datetime module"
   ]
  },
  {
   "cell_type": "code",
   "execution_count": 7,
   "id": "dd66a5a1",
   "metadata": {},
   "outputs": [
    {
     "data": {
      "text/plain": [
       "datetime.datetime(2023, 7, 26, 10, 39, 28, 412031)"
      ]
     },
     "execution_count": 7,
     "metadata": {},
     "output_type": "execute_result"
    }
   ],
   "source": [
    "datetime.now()"
   ]
  },
  {
   "cell_type": "code",
   "execution_count": 8,
   "id": "af37137d",
   "metadata": {},
   "outputs": [
    {
     "data": {
      "text/plain": [
       "datetime.datetime(2023, 7, 26, 10, 40, 2, 790088)"
      ]
     },
     "execution_count": 8,
     "metadata": {},
     "output_type": "execute_result"
    }
   ],
   "source": [
    "today = datetime.now()\n",
    "today"
   ]
  },
  {
   "cell_type": "markdown",
   "id": "c19a4b22",
   "metadata": {},
   "source": [
    "### subtract two dates"
   ]
  },
  {
   "cell_type": "code",
   "execution_count": 9,
   "id": "d61d0a8e",
   "metadata": {},
   "outputs": [
    {
     "data": {
      "text/plain": [
       "datetime.timedelta(days=-1261, seconds=47997, microseconds=209912)"
      ]
     },
     "execution_count": 9,
     "metadata": {},
     "output_type": "execute_result"
    }
   ],
   "source": [
    "date - today"
   ]
  },
  {
   "cell_type": "markdown",
   "id": "3b471dd6",
   "metadata": {},
   "source": [
    "### timedelta"
   ]
  },
  {
   "cell_type": "code",
   "execution_count": 10,
   "id": "8062c4cb",
   "metadata": {},
   "outputs": [
    {
     "data": {
      "text/plain": [
       "datetime.datetime(2023, 8, 5, 10, 40, 2, 790088)"
      ]
     },
     "execution_count": 10,
     "metadata": {},
     "output_type": "execute_result"
    }
   ],
   "source": [
    "today + pd.Timedelta(days=10) # add 10 days from today"
   ]
  },
  {
   "cell_type": "markdown",
   "id": "2cf76112",
   "metadata": {},
   "source": [
    "### one date"
   ]
  },
  {
   "cell_type": "code",
   "execution_count": 11,
   "id": "45e885f7",
   "metadata": {},
   "outputs": [],
   "source": [
    "date = 'Jan 1 1970' # string"
   ]
  },
  {
   "cell_type": "code",
   "execution_count": 13,
   "id": "bfda727a",
   "metadata": {},
   "outputs": [
    {
     "data": {
      "text/plain": [
       "Timestamp('1970-01-01 00:00:00')"
      ]
     },
     "execution_count": 13,
     "metadata": {},
     "output_type": "execute_result"
    }
   ],
   "source": [
    "date = pd.to_datetime(date) # converts string to date\n",
    "date"
   ]
  },
  {
   "cell_type": "markdown",
   "id": "29783491",
   "metadata": {},
   "source": [
    "### one date, but confuse pandas"
   ]
  },
  {
   "cell_type": "code",
   "execution_count": 15,
   "id": "dfddea51",
   "metadata": {},
   "outputs": [],
   "source": [
    "date = 'Jan:7:1970' #werid date format in string"
   ]
  },
  {
   "cell_type": "code",
   "execution_count": null,
   "id": "da940b67",
   "metadata": {},
   "outputs": [],
   "source": [
    "pd.to_datetime(date)  # errors out due to weird above format"
   ]
  },
  {
   "cell_type": "code",
   "execution_count": 17,
   "id": "47bb05f0",
   "metadata": {},
   "outputs": [],
   "source": [
    "date = pd.to_datetime(date, format='%b:%d:%Y') #todl pandas format of the date, so no error"
   ]
  },
  {
   "cell_type": "markdown",
   "id": "211aee38",
   "metadata": {},
   "source": [
    "### use strftime to reformat date to more readable version \"string format time\""
   ]
  },
  {
   "cell_type": "code",
   "execution_count": 18,
   "id": "410f5912",
   "metadata": {},
   "outputs": [
    {
     "data": {
      "text/plain": [
       "Timestamp('1970-01-07 00:00:00')"
      ]
     },
     "execution_count": 18,
     "metadata": {},
     "output_type": "execute_result"
    }
   ],
   "source": [
    "date"
   ]
  },
  {
   "cell_type": "code",
   "execution_count": 19,
   "id": "ab604e7f",
   "metadata": {},
   "outputs": [
    {
     "data": {
      "text/plain": [
       "'01/07/70'"
      ]
     },
     "execution_count": 19,
     "metadata": {},
     "output_type": "execute_result"
    }
   ],
   "source": [
    "date.strftime('%m/%d/%y') # changes format of string to inputted format"
   ]
  },
  {
   "cell_type": "markdown",
   "id": "20fde5c9",
   "metadata": {},
   "source": [
    "### Doing a column of dates using column of coffee consumed per day"
   ]
  },
  {
   "cell_type": "code",
   "execution_count": 20,
   "id": "38b2466a",
   "metadata": {},
   "outputs": [],
   "source": [
    "url = \"https://gist.githubusercontent.com/ryanorsinger/\\\n",
    "b309f8db19e0ca71b213d4877d835e77/raw/f5841017310e2f4ca070b313529ceec2375336ba/coffee_consumption.csv\"\n",
    "df = pd.read_csv(url)"
   ]
  },
  {
   "cell_type": "code",
   "execution_count": 22,
   "id": "a0ddb865",
   "metadata": {},
   "outputs": [
    {
     "data": {
      "text/html": [
       "<div>\n",
       "<style scoped>\n",
       "    .dataframe tbody tr th:only-of-type {\n",
       "        vertical-align: middle;\n",
       "    }\n",
       "\n",
       "    .dataframe tbody tr th {\n",
       "        vertical-align: top;\n",
       "    }\n",
       "\n",
       "    .dataframe thead th {\n",
       "        text-align: right;\n",
       "    }\n",
       "</style>\n",
       "<table border=\"1\" class=\"dataframe\">\n",
       "  <thead>\n",
       "    <tr style=\"text-align: right;\">\n",
       "      <th></th>\n",
       "      <th>date</th>\n",
       "      <th>coffee_consumption</th>\n",
       "    </tr>\n",
       "  </thead>\n",
       "  <tbody>\n",
       "    <tr>\n",
       "      <th>0</th>\n",
       "      <td>2019-01-01</td>\n",
       "      <td>14.301915</td>\n",
       "    </tr>\n",
       "    <tr>\n",
       "      <th>1</th>\n",
       "      <td>2019-01-02</td>\n",
       "      <td>12.905900</td>\n",
       "    </tr>\n",
       "    <tr>\n",
       "      <th>2</th>\n",
       "      <td>2019-01-03</td>\n",
       "      <td>10.046015</td>\n",
       "    </tr>\n",
       "    <tr>\n",
       "      <th>3</th>\n",
       "      <td>2019-01-04</td>\n",
       "      <td>6.354805</td>\n",
       "    </tr>\n",
       "    <tr>\n",
       "      <th>4</th>\n",
       "      <td>2019-01-07</td>\n",
       "      <td>8.545563</td>\n",
       "    </tr>\n",
       "  </tbody>\n",
       "</table>\n",
       "</div>"
      ],
      "text/plain": [
       "         date  coffee_consumption\n",
       "0  2019-01-01           14.301915\n",
       "1  2019-01-02           12.905900\n",
       "2  2019-01-03           10.046015\n",
       "3  2019-01-04            6.354805\n",
       "4  2019-01-07            8.545563"
      ]
     },
     "execution_count": 22,
     "metadata": {},
     "output_type": "execute_result"
    }
   ],
   "source": [
    "df.head()\n"
   ]
  },
  {
   "cell_type": "code",
   "execution_count": 23,
   "id": "77f1fad1",
   "metadata": {},
   "outputs": [
    {
     "data": {
      "text/plain": [
       "0     2019-01-01\n",
       "1     2019-01-02\n",
       "2     2019-01-03\n",
       "3     2019-01-04\n",
       "4     2019-01-07\n",
       "         ...    \n",
       "256   2019-12-25\n",
       "257   2019-12-26\n",
       "258   2019-12-27\n",
       "259   2019-12-30\n",
       "260   2019-12-31\n",
       "Name: date, Length: 261, dtype: datetime64[ns]"
      ]
     },
     "execution_count": 23,
     "metadata": {},
     "output_type": "execute_result"
    }
   ],
   "source": [
    "pd.to_datetime(df.date)"
   ]
  },
  {
   "cell_type": "code",
   "execution_count": 26,
   "id": "c79fe63b",
   "metadata": {},
   "outputs": [],
   "source": [
    "df.date = df.date.astype('datetime64')"
   ]
  },
  {
   "cell_type": "code",
   "execution_count": 28,
   "id": "9eb06dc1",
   "metadata": {},
   "outputs": [
    {
     "data": {
      "text/plain": [
       "date                  datetime64[ns]\n",
       "coffee_consumption           float64\n",
       "dtype: object"
      ]
     },
     "execution_count": 28,
     "metadata": {},
     "output_type": "execute_result"
    }
   ],
   "source": [
    "df.dtypes"
   ]
  },
  {
   "cell_type": "markdown",
   "id": "83314a6e",
   "metadata": {},
   "source": [
    "### Extract pieces of a date"
   ]
  },
  {
   "cell_type": "markdown",
   "id": "509cb407",
   "metadata": {},
   "source": [
    "#### use .dt to extract"
   ]
  },
  {
   "cell_type": "markdown",
   "id": "eff1146c",
   "metadata": {},
   "source": [
    "\n",
    "\n",
    "the documentation: https://pandas.pydata.org/docs/reference/api/pandas.DatetimeIndex.html\n"
   ]
  },
  {
   "cell_type": "code",
   "execution_count": 29,
   "id": "40296a28",
   "metadata": {},
   "outputs": [
    {
     "data": {
      "text/plain": [
       "0      2019\n",
       "1      2019\n",
       "2      2019\n",
       "3      2019\n",
       "4      2019\n",
       "       ... \n",
       "256    2019\n",
       "257    2019\n",
       "258    2019\n",
       "259    2019\n",
       "260    2019\n",
       "Name: date, Length: 261, dtype: int64"
      ]
     },
     "execution_count": 29,
     "metadata": {},
     "output_type": "execute_result"
    }
   ],
   "source": [
    "df.date.dt.year"
   ]
  },
  {
   "cell_type": "code",
   "execution_count": 30,
   "id": "4d52d8d3",
   "metadata": {},
   "outputs": [
    {
     "data": {
      "text/plain": [
       "0      1\n",
       "1      2\n",
       "2      3\n",
       "3      4\n",
       "4      0\n",
       "      ..\n",
       "256    2\n",
       "257    3\n",
       "258    4\n",
       "259    0\n",
       "260    1\n",
       "Name: date, Length: 261, dtype: int64"
      ]
     },
     "execution_count": 30,
     "metadata": {},
     "output_type": "execute_result"
    }
   ],
   "source": [
    "df.date.dt.day_of_week #day of the week"
   ]
  },
  {
   "cell_type": "code",
   "execution_count": 31,
   "id": "6087c979",
   "metadata": {},
   "outputs": [
    {
     "data": {
      "text/plain": [
       "0       1\n",
       "1       2\n",
       "2       3\n",
       "3       4\n",
       "4       7\n",
       "       ..\n",
       "256    25\n",
       "257    26\n",
       "258    27\n",
       "259    30\n",
       "260    31\n",
       "Name: date, Length: 261, dtype: int64"
      ]
     },
     "execution_count": 31,
     "metadata": {},
     "output_type": "execute_result"
    }
   ],
   "source": [
    "df.date.dt.day # day of the month"
   ]
  },
  {
   "cell_type": "markdown",
   "id": "d0f9f61d",
   "metadata": {},
   "source": [
    "### add them back to initial df"
   ]
  },
  {
   "cell_type": "code",
   "execution_count": 34,
   "id": "c94f9e12",
   "metadata": {},
   "outputs": [
    {
     "data": {
      "text/html": [
       "<div>\n",
       "<style scoped>\n",
       "    .dataframe tbody tr th:only-of-type {\n",
       "        vertical-align: middle;\n",
       "    }\n",
       "\n",
       "    .dataframe tbody tr th {\n",
       "        vertical-align: top;\n",
       "    }\n",
       "\n",
       "    .dataframe thead th {\n",
       "        text-align: right;\n",
       "    }\n",
       "</style>\n",
       "<table border=\"1\" class=\"dataframe\">\n",
       "  <thead>\n",
       "    <tr style=\"text-align: right;\">\n",
       "      <th></th>\n",
       "      <th>date</th>\n",
       "      <th>coffee_consumption</th>\n",
       "      <th>year</th>\n",
       "      <th>day</th>\n",
       "      <th>day_of_week</th>\n",
       "    </tr>\n",
       "  </thead>\n",
       "  <tbody>\n",
       "    <tr>\n",
       "      <th>0</th>\n",
       "      <td>2019-01-01</td>\n",
       "      <td>14.301915</td>\n",
       "      <td>2019</td>\n",
       "      <td>1</td>\n",
       "      <td>1</td>\n",
       "    </tr>\n",
       "    <tr>\n",
       "      <th>1</th>\n",
       "      <td>2019-01-02</td>\n",
       "      <td>12.905900</td>\n",
       "      <td>2019</td>\n",
       "      <td>2</td>\n",
       "      <td>2</td>\n",
       "    </tr>\n",
       "    <tr>\n",
       "      <th>2</th>\n",
       "      <td>2019-01-03</td>\n",
       "      <td>10.046015</td>\n",
       "      <td>2019</td>\n",
       "      <td>3</td>\n",
       "      <td>3</td>\n",
       "    </tr>\n",
       "    <tr>\n",
       "      <th>3</th>\n",
       "      <td>2019-01-04</td>\n",
       "      <td>6.354805</td>\n",
       "      <td>2019</td>\n",
       "      <td>4</td>\n",
       "      <td>4</td>\n",
       "    </tr>\n",
       "    <tr>\n",
       "      <th>4</th>\n",
       "      <td>2019-01-07</td>\n",
       "      <td>8.545563</td>\n",
       "      <td>2019</td>\n",
       "      <td>7</td>\n",
       "      <td>0</td>\n",
       "    </tr>\n",
       "  </tbody>\n",
       "</table>\n",
       "</div>"
      ],
      "text/plain": [
       "        date  coffee_consumption  year  day  day_of_week\n",
       "0 2019-01-01           14.301915  2019    1            1\n",
       "1 2019-01-02           12.905900  2019    2            2\n",
       "2 2019-01-03           10.046015  2019    3            3\n",
       "3 2019-01-04            6.354805  2019    4            4\n",
       "4 2019-01-07            8.545563  2019    7            0"
      ]
     },
     "execution_count": 34,
     "metadata": {},
     "output_type": "execute_result"
    }
   ],
   "source": [
    "df['year'] = df.date.dt.year # creat column of just year\n",
    "df['day'] = df.date.dt.day # day of month\n",
    "df['day_of_week'] = df.date.dt.day_of_week # day of week\n",
    "df.head()"
   ]
  },
  {
   "cell_type": "markdown",
   "id": "77277f7e",
   "metadata": {},
   "source": [
    "### reformat using strftime()"
   ]
  },
  {
   "cell_type": "code",
   "execution_count": 36,
   "id": "8af9878f",
   "metadata": {},
   "outputs": [
    {
     "data": {
      "text/plain": [
       "0      01/01/ --- 19\n",
       "1      01/02/ --- 19\n",
       "2      01/03/ --- 19\n",
       "3      01/04/ --- 19\n",
       "4      01/07/ --- 19\n",
       "           ...      \n",
       "256    12/25/ --- 19\n",
       "257    12/26/ --- 19\n",
       "258    12/27/ --- 19\n",
       "259    12/30/ --- 19\n",
       "260    12/31/ --- 19\n",
       "Name: date, Length: 261, dtype: object"
      ]
     },
     "execution_count": 36,
     "metadata": {},
     "output_type": "execute_result"
    }
   ],
   "source": [
    "df.date.dt.strftime('%m/%d/ --- %y')"
   ]
  },
  {
   "cell_type": "markdown",
   "id": "e6ec3da1",
   "metadata": {},
   "source": [
    "## Exercises 1"
   ]
  },
  {
   "cell_type": "markdown",
   "id": "7b009542",
   "metadata": {},
   "source": [
    "\n",
    " 1   import the datetime module from the datetime library\n",
    " 2   convert the date column to a datetime\n",
    " 3   subtract one day from each date\n",
    " 4   reformat the dates as \"Sun - March 26, 2022\"\n"
   ]
  },
  {
   "cell_type": "markdown",
   "id": "09a611f5",
   "metadata": {},
   "source": [
    "1. import the datetime module from the datetime library"
   ]
  },
  {
   "cell_type": "markdown",
   "id": "ecb0a4ff",
   "metadata": {},
   "source": [
    "Done at top of notebook"
   ]
  },
  {
   "cell_type": "code",
   "execution_count": 50,
   "id": "ae67296f",
   "metadata": {},
   "outputs": [],
   "source": [
    "url = 'https://gist.githubusercontent.com/misty-garcia/\\\n",
    "8c099128d3f59c32afaa5aa2c3e4fb62/raw/2a4c06ea955266e276a78af5d2e1083cfd348703/mockdates'\n",
    "\n",
    "df = pd.read_csv(url,sep='\\t')"
   ]
  },
  {
   "cell_type": "markdown",
   "id": "c8c3afb0",
   "metadata": {},
   "source": [
    "2.   convert the date column to a datetime"
   ]
  },
  {
   "cell_type": "code",
   "execution_count": 51,
   "id": "2736e0ca",
   "metadata": {
    "scrolled": true
   },
   "outputs": [
    {
     "data": {
      "text/html": [
       "<div>\n",
       "<style scoped>\n",
       "    .dataframe tbody tr th:only-of-type {\n",
       "        vertical-align: middle;\n",
       "    }\n",
       "\n",
       "    .dataframe tbody tr th {\n",
       "        vertical-align: top;\n",
       "    }\n",
       "\n",
       "    .dataframe thead th {\n",
       "        text-align: right;\n",
       "    }\n",
       "</style>\n",
       "<table border=\"1\" class=\"dataframe\">\n",
       "  <thead>\n",
       "    <tr style=\"text-align: right;\">\n",
       "      <th></th>\n",
       "      <th>date</th>\n",
       "    </tr>\n",
       "  </thead>\n",
       "  <tbody>\n",
       "    <tr>\n",
       "      <th>95</th>\n",
       "      <td>Jan - 04 - 2022</td>\n",
       "    </tr>\n",
       "    <tr>\n",
       "      <th>96</th>\n",
       "      <td>Mar - 24 - 2022</td>\n",
       "    </tr>\n",
       "    <tr>\n",
       "      <th>97</th>\n",
       "      <td>Aug - 28 - 2022</td>\n",
       "    </tr>\n",
       "    <tr>\n",
       "      <th>98</th>\n",
       "      <td>Jan - 31 - 2022</td>\n",
       "    </tr>\n",
       "    <tr>\n",
       "      <th>99</th>\n",
       "      <td>May - 16 - 2022</td>\n",
       "    </tr>\n",
       "  </tbody>\n",
       "</table>\n",
       "</div>"
      ],
      "text/plain": [
       "                date\n",
       "95   Jan - 04 - 2022\n",
       "96   Mar - 24 - 2022\n",
       "97   Aug - 28 - 2022\n",
       "98   Jan - 31 - 2022\n",
       "99   May - 16 - 2022"
      ]
     },
     "execution_count": 51,
     "metadata": {},
     "output_type": "execute_result"
    }
   ],
   "source": [
    "df.tail()"
   ]
  },
  {
   "cell_type": "code",
   "execution_count": 53,
   "id": "a770bae0",
   "metadata": {},
   "outputs": [
    {
     "data": {
      "text/plain": [
       "date    object\n",
       "dtype: object"
      ]
     },
     "execution_count": 53,
     "metadata": {},
     "output_type": "execute_result"
    }
   ],
   "source": [
    "df.dtypes"
   ]
  },
  {
   "cell_type": "code",
   "execution_count": 55,
   "id": "42aa7757",
   "metadata": {},
   "outputs": [
    {
     "data": {
      "text/plain": [
       "0    2022-03-27\n",
       "1    2022-05-22\n",
       "2    2022-05-16\n",
       "3    2022-08-22\n",
       "4    2022-03-15\n",
       "        ...    \n",
       "95   2022-01-04\n",
       "96   2022-03-24\n",
       "97   2022-08-28\n",
       "98   2022-01-31\n",
       "99   2022-05-16\n",
       "Name: date, Length: 100, dtype: datetime64[ns]"
      ]
     },
     "execution_count": 55,
     "metadata": {},
     "output_type": "execute_result"
    }
   ],
   "source": [
    "df.date = df.date.astype('datetime64')\n",
    "df.date"
   ]
  },
  {
   "cell_type": "markdown",
   "id": "e39c999b",
   "metadata": {},
   "source": [
    "3. "
   ]
  },
  {
   "cell_type": "code",
   "execution_count": null,
   "id": "2a6d507e",
   "metadata": {},
   "outputs": [],
   "source": [
    "df.date "
   ]
  },
  {
   "cell_type": "markdown",
   "id": "cf5527dd",
   "metadata": {},
   "source": [
    "## More complexity"
   ]
  },
  {
   "cell_type": "code",
   "execution_count": 59,
   "id": "8ea078c3",
   "metadata": {},
   "outputs": [
    {
     "data": {
      "text/html": [
       "<div>\n",
       "<style scoped>\n",
       "    .dataframe tbody tr th:only-of-type {\n",
       "        vertical-align: middle;\n",
       "    }\n",
       "\n",
       "    .dataframe tbody tr th {\n",
       "        vertical-align: top;\n",
       "    }\n",
       "\n",
       "    .dataframe thead th {\n",
       "        text-align: right;\n",
       "    }\n",
       "</style>\n",
       "<table border=\"1\" class=\"dataframe\">\n",
       "  <thead>\n",
       "    <tr style=\"text-align: right;\">\n",
       "      <th></th>\n",
       "      <th>Date</th>\n",
       "      <th>Symbol</th>\n",
       "      <th>Close</th>\n",
       "      <th>Volume</th>\n",
       "    </tr>\n",
       "  </thead>\n",
       "  <tbody>\n",
       "    <tr>\n",
       "      <th>0</th>\n",
       "      <td>2020-03-13 12-PM</td>\n",
       "      <td>ETHUSD</td>\n",
       "      <td>128.71</td>\n",
       "      <td>3906590.52</td>\n",
       "    </tr>\n",
       "    <tr>\n",
       "      <th>1</th>\n",
       "      <td>2020-03-13 12-AM</td>\n",
       "      <td>ETHUSD</td>\n",
       "      <td>129.94</td>\n",
       "      <td>10329663.70</td>\n",
       "    </tr>\n",
       "    <tr>\n",
       "      <th>2</th>\n",
       "      <td>2020-03-13 11-AM</td>\n",
       "      <td>ETHUSD</td>\n",
       "      <td>119.51</td>\n",
       "      <td>3311080.29</td>\n",
       "    </tr>\n",
       "    <tr>\n",
       "      <th>3</th>\n",
       "      <td>2020-03-13 10-AM</td>\n",
       "      <td>ETHUSD</td>\n",
       "      <td>124.47</td>\n",
       "      <td>3483436.48</td>\n",
       "    </tr>\n",
       "    <tr>\n",
       "      <th>4</th>\n",
       "      <td>2020-03-13 09-AM</td>\n",
       "      <td>ETHUSD</td>\n",
       "      <td>124.08</td>\n",
       "      <td>2767584.44</td>\n",
       "    </tr>\n",
       "    <tr>\n",
       "      <th>...</th>\n",
       "      <td>...</td>\n",
       "      <td>...</td>\n",
       "      <td>...</td>\n",
       "      <td>...</td>\n",
       "    </tr>\n",
       "    <tr>\n",
       "      <th>23669</th>\n",
       "      <td>2017-07-01 05-PM</td>\n",
       "      <td>ETHUSD</td>\n",
       "      <td>272.57</td>\n",
       "      <td>1894983.33</td>\n",
       "    </tr>\n",
       "    <tr>\n",
       "      <th>23670</th>\n",
       "      <td>2017-07-01 04-PM</td>\n",
       "      <td>ETHUSD</td>\n",
       "      <td>265.74</td>\n",
       "      <td>1287300.75</td>\n",
       "    </tr>\n",
       "    <tr>\n",
       "      <th>23671</th>\n",
       "      <td>2017-07-01 03-PM</td>\n",
       "      <td>ETHUSD</td>\n",
       "      <td>268.79</td>\n",
       "      <td>1500282.55</td>\n",
       "    </tr>\n",
       "    <tr>\n",
       "      <th>23672</th>\n",
       "      <td>2017-07-01 02-PM</td>\n",
       "      <td>ETHUSD</td>\n",
       "      <td>274.83</td>\n",
       "      <td>1702536.85</td>\n",
       "    </tr>\n",
       "    <tr>\n",
       "      <th>23673</th>\n",
       "      <td>2017-07-01 01-PM</td>\n",
       "      <td>ETHUSD</td>\n",
       "      <td>275.01</td>\n",
       "      <td>3010787.99</td>\n",
       "    </tr>\n",
       "  </tbody>\n",
       "</table>\n",
       "<p>23674 rows × 4 columns</p>\n",
       "</div>"
      ],
      "text/plain": [
       "                   Date  Symbol   Close       Volume\n",
       "0      2020-03-13 12-PM  ETHUSD  128.71   3906590.52\n",
       "1      2020-03-13 12-AM  ETHUSD  129.94  10329663.70\n",
       "2      2020-03-13 11-AM  ETHUSD  119.51   3311080.29\n",
       "3      2020-03-13 10-AM  ETHUSD  124.47   3483436.48\n",
       "4      2020-03-13 09-AM  ETHUSD  124.08   2767584.44\n",
       "...                 ...     ...     ...          ...\n",
       "23669  2017-07-01 05-PM  ETHUSD  272.57   1894983.33\n",
       "23670  2017-07-01 04-PM  ETHUSD  265.74   1287300.75\n",
       "23671  2017-07-01 03-PM  ETHUSD  268.79   1500282.55\n",
       "23672  2017-07-01 02-PM  ETHUSD  274.83   1702536.85\n",
       "23673  2017-07-01 01-PM  ETHUSD  275.01   3010787.99\n",
       "\n",
       "[23674 rows x 4 columns]"
      ]
     },
     "execution_count": 59,
     "metadata": {},
     "output_type": "execute_result"
    }
   ],
   "source": [
    "#save url\n",
    "sheet_url = 'https://docs.google.com/spreadsheets/d/1kTrAFSrr-xP3REs0Lly0TdV4ekrHahBXLg9r5qKxmV8/edit#gid=0'\n",
    "csv_export_url = sheet_url.replace('/edit#gid=', '/export?format=csv&gid=')\n",
    "\n",
    "#read in df\n",
    "df = pd.read_csv(csv_export_url)\n",
    "df"
   ]
  },
  {
   "cell_type": "code",
   "execution_count": 60,
   "id": "dfa59ddb",
   "metadata": {},
   "outputs": [
    {
     "data": {
      "text/plain": [
       "<bound method DataFrame.info of                    Date  Symbol   Close       Volume\n",
       "0      2020-03-13 12-PM  ETHUSD  128.71   3906590.52\n",
       "1      2020-03-13 12-AM  ETHUSD  129.94  10329663.70\n",
       "2      2020-03-13 11-AM  ETHUSD  119.51   3311080.29\n",
       "3      2020-03-13 10-AM  ETHUSD  124.47   3483436.48\n",
       "4      2020-03-13 09-AM  ETHUSD  124.08   2767584.44\n",
       "...                 ...     ...     ...          ...\n",
       "23669  2017-07-01 05-PM  ETHUSD  272.57   1894983.33\n",
       "23670  2017-07-01 04-PM  ETHUSD  265.74   1287300.75\n",
       "23671  2017-07-01 03-PM  ETHUSD  268.79   1500282.55\n",
       "23672  2017-07-01 02-PM  ETHUSD  274.83   1702536.85\n",
       "23673  2017-07-01 01-PM  ETHUSD  275.01   3010787.99\n",
       "\n",
       "[23674 rows x 4 columns]>"
      ]
     },
     "execution_count": 60,
     "metadata": {},
     "output_type": "execute_result"
    }
   ],
   "source": [
    "df.info"
   ]
  },
  {
   "cell_type": "code",
   "execution_count": 62,
   "id": "5b505967",
   "metadata": {},
   "outputs": [],
   "source": [
    "df.columns = df.columns.str.lower()"
   ]
  },
  {
   "cell_type": "code",
   "execution_count": 66,
   "id": "1af49066",
   "metadata": {},
   "outputs": [
    {
     "data": {
      "image/png": "[encoded data removed]",
      "text/plain": [
       "<Figure size 640x480 with 1 Axes>"
      ]
     },
     "metadata": {},
     "output_type": "display_data"
    }
   ],
   "source": [
    "df.close.plot.hist(); # colon gets rid of clustter at tome of graph"
   ]
  },
  {
   "cell_type": "code",
   "execution_count": 67,
   "id": "5fa7a7cc",
   "metadata": {},
   "outputs": [
    {
     "data": {
      "text/plain": [
       "<Axes: >"
      ]
     },
     "execution_count": 67,
     "metadata": {},
     "output_type": "execute_result"
    },
    {
     "data": {
      "image/png": "[encoded data removed]",
      "text/plain": [
       "<Figure size 640x480 with 1 Axes>"
      ]
     },
     "metadata": {},
     "output_type": "display_data"
    }
   ],
   "source": [
    "df.close.plot()"
   ]
  },
  {
   "cell_type": "markdown",
   "id": "bf27f972",
   "metadata": {},
   "source": [
    "## How do we make Pandas aware of time series?"
   ]
  },
  {
   "cell_type": "markdown",
   "id": "1513711c",
   "metadata": {},
   "source": [
    "\n",
    " 1   Convert 'date' column to datetime object\n",
    "  2  Set the datetime column as index\n",
    "  3  Sort the datetime index\n"
   ]
  },
  {
   "cell_type": "markdown",
   "id": "34fe271a",
   "metadata": {},
   "source": [
    "#### Convert date column to datetime object"
   ]
  },
  {
   "cell_type": "code",
   "execution_count": 68,
   "id": "2c3176da",
   "metadata": {},
   "outputs": [
    {
     "data": {
      "text/html": [
       "<div>\n",
       "<style scoped>\n",
       "    .dataframe tbody tr th:only-of-type {\n",
       "        vertical-align: middle;\n",
       "    }\n",
       "\n",
       "    .dataframe tbody tr th {\n",
       "        vertical-align: top;\n",
       "    }\n",
       "\n",
       "    .dataframe thead th {\n",
       "        text-align: right;\n",
       "    }\n",
       "</style>\n",
       "<table border=\"1\" class=\"dataframe\">\n",
       "  <thead>\n",
       "    <tr style=\"text-align: right;\">\n",
       "      <th></th>\n",
       "      <th>date</th>\n",
       "      <th>symbol</th>\n",
       "      <th>close</th>\n",
       "      <th>volume</th>\n",
       "    </tr>\n",
       "  </thead>\n",
       "  <tbody>\n",
       "    <tr>\n",
       "      <th>0</th>\n",
       "      <td>2020-03-13 12-PM</td>\n",
       "      <td>ETHUSD</td>\n",
       "      <td>128.71</td>\n",
       "      <td>3906590.52</td>\n",
       "    </tr>\n",
       "    <tr>\n",
       "      <th>1</th>\n",
       "      <td>2020-03-13 12-AM</td>\n",
       "      <td>ETHUSD</td>\n",
       "      <td>129.94</td>\n",
       "      <td>10329663.70</td>\n",
       "    </tr>\n",
       "    <tr>\n",
       "      <th>2</th>\n",
       "      <td>2020-03-13 11-AM</td>\n",
       "      <td>ETHUSD</td>\n",
       "      <td>119.51</td>\n",
       "      <td>3311080.29</td>\n",
       "    </tr>\n",
       "    <tr>\n",
       "      <th>3</th>\n",
       "      <td>2020-03-13 10-AM</td>\n",
       "      <td>ETHUSD</td>\n",
       "      <td>124.47</td>\n",
       "      <td>3483436.48</td>\n",
       "    </tr>\n",
       "    <tr>\n",
       "      <th>4</th>\n",
       "      <td>2020-03-13 09-AM</td>\n",
       "      <td>ETHUSD</td>\n",
       "      <td>124.08</td>\n",
       "      <td>2767584.44</td>\n",
       "    </tr>\n",
       "  </tbody>\n",
       "</table>\n",
       "</div>"
      ],
      "text/plain": [
       "               date  symbol   close       volume\n",
       "0  2020-03-13 12-PM  ETHUSD  128.71   3906590.52\n",
       "1  2020-03-13 12-AM  ETHUSD  129.94  10329663.70\n",
       "2  2020-03-13 11-AM  ETHUSD  119.51   3311080.29\n",
       "3  2020-03-13 10-AM  ETHUSD  124.47   3483436.48\n",
       "4  2020-03-13 09-AM  ETHUSD  124.08   2767584.44"
      ]
     },
     "execution_count": 68,
     "metadata": {},
     "output_type": "execute_result"
    }
   ],
   "source": [
    "df.head()"
   ]
  },
  {
   "cell_type": "code",
   "execution_count": 70,
   "id": "44809bd0",
   "metadata": {},
   "outputs": [],
   "source": [
    "df.date = pd.to_datetime(df.date, format='%Y-%m-%d %I-%p') #inputs format of original to put it into datetime format"
   ]
  },
  {
   "cell_type": "code",
   "execution_count": 71,
   "id": "eec4d628",
   "metadata": {},
   "outputs": [],
   "source": [
    "df = df.set_index('date') # sets date as index"
   ]
  },
  {
   "cell_type": "code",
   "execution_count": 72,
   "id": "4a06ae66",
   "metadata": {},
   "outputs": [
    {
     "data": {
      "text/html": [
       "<div>\n",
       "<style scoped>\n",
       "    .dataframe tbody tr th:only-of-type {\n",
       "        vertical-align: middle;\n",
       "    }\n",
       "\n",
       "    .dataframe tbody tr th {\n",
       "        vertical-align: top;\n",
       "    }\n",
       "\n",
       "    .dataframe thead th {\n",
       "        text-align: right;\n",
       "    }\n",
       "</style>\n",
       "<table border=\"1\" class=\"dataframe\">\n",
       "  <thead>\n",
       "    <tr style=\"text-align: right;\">\n",
       "      <th></th>\n",
       "      <th>symbol</th>\n",
       "      <th>close</th>\n",
       "      <th>volume</th>\n",
       "    </tr>\n",
       "    <tr>\n",
       "      <th>date</th>\n",
       "      <th></th>\n",
       "      <th></th>\n",
       "      <th></th>\n",
       "    </tr>\n",
       "  </thead>\n",
       "  <tbody>\n",
       "    <tr>\n",
       "      <th>2020-03-13 12:00:00</th>\n",
       "      <td>ETHUSD</td>\n",
       "      <td>128.71</td>\n",
       "      <td>3906590.52</td>\n",
       "    </tr>\n",
       "    <tr>\n",
       "      <th>2020-03-13 00:00:00</th>\n",
       "      <td>ETHUSD</td>\n",
       "      <td>129.94</td>\n",
       "      <td>10329663.70</td>\n",
       "    </tr>\n",
       "    <tr>\n",
       "      <th>2020-03-13 11:00:00</th>\n",
       "      <td>ETHUSD</td>\n",
       "      <td>119.51</td>\n",
       "      <td>3311080.29</td>\n",
       "    </tr>\n",
       "    <tr>\n",
       "      <th>2020-03-13 10:00:00</th>\n",
       "      <td>ETHUSD</td>\n",
       "      <td>124.47</td>\n",
       "      <td>3483436.48</td>\n",
       "    </tr>\n",
       "    <tr>\n",
       "      <th>2020-03-13 09:00:00</th>\n",
       "      <td>ETHUSD</td>\n",
       "      <td>124.08</td>\n",
       "      <td>2767584.44</td>\n",
       "    </tr>\n",
       "  </tbody>\n",
       "</table>\n",
       "</div>"
      ],
      "text/plain": [
       "                     symbol   close       volume\n",
       "date                                            \n",
       "2020-03-13 12:00:00  ETHUSD  128.71   3906590.52\n",
       "2020-03-13 00:00:00  ETHUSD  129.94  10329663.70\n",
       "2020-03-13 11:00:00  ETHUSD  119.51   3311080.29\n",
       "2020-03-13 10:00:00  ETHUSD  124.47   3483436.48\n",
       "2020-03-13 09:00:00  ETHUSD  124.08   2767584.44"
      ]
     },
     "execution_count": 72,
     "metadata": {},
     "output_type": "execute_result"
    }
   ],
   "source": [
    "df.head()"
   ]
  },
  {
   "cell_type": "code",
   "execution_count": 73,
   "id": "a7777b70",
   "metadata": {},
   "outputs": [],
   "source": [
    "df = df.sort_index() # puts index in date time order"
   ]
  },
  {
   "cell_type": "code",
   "execution_count": 74,
   "id": "f8c310c1",
   "metadata": {},
   "outputs": [
    {
     "data": {
      "text/plain": [
       "<Axes: xlabel='date'>"
      ]
     },
     "execution_count": 74,
     "metadata": {},
     "output_type": "execute_result"
    },
    {
     "data": {
      "image/png": "[encoded data removed]",
      "text/plain": [
       "<Figure size 640x480 with 1 Axes>"
      ]
     },
     "metadata": {},
     "output_type": "display_data"
    }
   ],
   "source": [
    "df.close.plot() # now plot gives actual time values over time"
   ]
  },
  {
   "cell_type": "markdown",
   "id": "ee7c450b",
   "metadata": {},
   "source": [
    "### let's find mean close value on each day of the week"
   ]
  },
  {
   "cell_type": "markdown",
   "id": "612e6ff7",
   "metadata": {},
   "source": [
    "Note: when datetime is an index, we do not use .dt to use datetime methods/attributes"
   ]
  },
  {
   "cell_type": "code",
   "execution_count": 76,
   "id": "423231b2",
   "metadata": {},
   "outputs": [],
   "source": [
    "#pull out weekday name & save when date is index\n",
    "df['weekday'] = df.index.day_name()"
   ]
  },
  {
   "cell_type": "code",
   "execution_count": 77,
   "id": "7bd198f9",
   "metadata": {},
   "outputs": [
    {
     "data": {
      "text/html": [
       "<div>\n",
       "<style scoped>\n",
       "    .dataframe tbody tr th:only-of-type {\n",
       "        vertical-align: middle;\n",
       "    }\n",
       "\n",
       "    .dataframe tbody tr th {\n",
       "        vertical-align: top;\n",
       "    }\n",
       "\n",
       "    .dataframe thead th {\n",
       "        text-align: right;\n",
       "    }\n",
       "</style>\n",
       "<table border=\"1\" class=\"dataframe\">\n",
       "  <thead>\n",
       "    <tr style=\"text-align: right;\">\n",
       "      <th></th>\n",
       "      <th>symbol</th>\n",
       "      <th>close</th>\n",
       "      <th>volume</th>\n",
       "      <th>weekday</th>\n",
       "    </tr>\n",
       "    <tr>\n",
       "      <th>date</th>\n",
       "      <th></th>\n",
       "      <th></th>\n",
       "      <th></th>\n",
       "      <th></th>\n",
       "    </tr>\n",
       "  </thead>\n",
       "  <tbody>\n",
       "    <tr>\n",
       "      <th>2017-07-01 11:00:00</th>\n",
       "      <td>ETHUSD</td>\n",
       "      <td>257.13</td>\n",
       "      <td>679358.87</td>\n",
       "      <td>Saturday</td>\n",
       "    </tr>\n",
       "    <tr>\n",
       "      <th>2017-07-01 12:00:00</th>\n",
       "      <td>ETHUSD</td>\n",
       "      <td>263.12</td>\n",
       "      <td>824362.87</td>\n",
       "      <td>Saturday</td>\n",
       "    </tr>\n",
       "    <tr>\n",
       "      <th>2017-07-01 13:00:00</th>\n",
       "      <td>ETHUSD</td>\n",
       "      <td>275.01</td>\n",
       "      <td>3010787.99</td>\n",
       "      <td>Saturday</td>\n",
       "    </tr>\n",
       "    <tr>\n",
       "      <th>2017-07-01 14:00:00</th>\n",
       "      <td>ETHUSD</td>\n",
       "      <td>274.83</td>\n",
       "      <td>1702536.85</td>\n",
       "      <td>Saturday</td>\n",
       "    </tr>\n",
       "    <tr>\n",
       "      <th>2017-07-01 15:00:00</th>\n",
       "      <td>ETHUSD</td>\n",
       "      <td>268.79</td>\n",
       "      <td>1500282.55</td>\n",
       "      <td>Saturday</td>\n",
       "    </tr>\n",
       "  </tbody>\n",
       "</table>\n",
       "</div>"
      ],
      "text/plain": [
       "                     symbol   close      volume   weekday\n",
       "date                                                     \n",
       "2017-07-01 11:00:00  ETHUSD  257.13   679358.87  Saturday\n",
       "2017-07-01 12:00:00  ETHUSD  263.12   824362.87  Saturday\n",
       "2017-07-01 13:00:00  ETHUSD  275.01  3010787.99  Saturday\n",
       "2017-07-01 14:00:00  ETHUSD  274.83  1702536.85  Saturday\n",
       "2017-07-01 15:00:00  ETHUSD  268.79  1500282.55  Saturday"
      ]
     },
     "execution_count": 77,
     "metadata": {},
     "output_type": "execute_result"
    }
   ],
   "source": [
    "df.head()"
   ]
  },
  {
   "cell_type": "code",
   "execution_count": 79,
   "id": "cdc6751e",
   "metadata": {},
   "outputs": [
    {
     "name": "stderr",
     "output_type": "stream",
     "text": [
      "/var/folders/_6/0nkpzhxj2_n85fz5s1rk__xr0000gn/T/ipykernel_7698/3616154404.py:1: FutureWarning: The default value of numeric_only in DataFrameGroupBy.mean is deprecated. In a future version, numeric_only will default to False. Either specify numeric_only or select only columns which should be valid for the function.\n",
      "  df.groupby('weekday').mean().close\n"
     ]
    },
    {
     "data": {
      "text/plain": [
       "weekday\n",
       "Friday       321.134596\n",
       "Monday       326.186823\n",
       "Saturday     327.707441\n",
       "Sunday       326.316418\n",
       "Thursday     323.334524\n",
       "Tuesday      325.189722\n",
       "Wednesday    324.622361\n",
       "Name: close, dtype: float64"
      ]
     },
     "execution_count": 79,
     "metadata": {},
     "output_type": "execute_result"
    }
   ],
   "source": [
    "df.groupby('weekday').mean().close #gives mean close value by day of th week"
   ]
  },
  {
   "cell_type": "code",
   "execution_count": 80,
   "id": "add64145",
   "metadata": {},
   "outputs": [
    {
     "name": "stderr",
     "output_type": "stream",
     "text": [
      "/var/folders/_6/0nkpzhxj2_n85fz5s1rk__xr0000gn/T/ipykernel_7698/1262616511.py:1: FutureWarning: The default value of numeric_only in DataFrameGroupBy.mean is deprecated. In a future version, numeric_only will default to False. Either specify numeric_only or select only columns which should be valid for the function.\n",
      "  df.groupby('weekday').mean().close.plot()\n"
     ]
    },
    {
     "data": {
      "text/plain": [
       "<Axes: xlabel='weekday'>"
      ]
     },
     "execution_count": 80,
     "metadata": {},
     "output_type": "execute_result"
    },
    {
     "data": {
      "image/png": "[encoded data removed]",
      "text/plain": [
       "<Figure size 640x480 with 1 Axes>"
      ]
     },
     "metadata": {},
     "output_type": "display_data"
    }
   ],
   "source": [
    "df.groupby('weekday').mean().close.plot()"
   ]
  },
  {
   "cell_type": "code",
   "execution_count": 81,
   "id": "8b772210",
   "metadata": {},
   "outputs": [],
   "source": [
    "#putting days in correct order\n",
    "df['dayofweek'] = df.index.dayofweek"
   ]
  },
  {
   "cell_type": "code",
   "execution_count": 82,
   "id": "81a4589d",
   "metadata": {},
   "outputs": [
    {
     "data": {
      "text/html": [
       "<div>\n",
       "<style scoped>\n",
       "    .dataframe tbody tr th:only-of-type {\n",
       "        vertical-align: middle;\n",
       "    }\n",
       "\n",
       "    .dataframe tbody tr th {\n",
       "        vertical-align: top;\n",
       "    }\n",
       "\n",
       "    .dataframe thead th {\n",
       "        text-align: right;\n",
       "    }\n",
       "</style>\n",
       "<table border=\"1\" class=\"dataframe\">\n",
       "  <thead>\n",
       "    <tr style=\"text-align: right;\">\n",
       "      <th></th>\n",
       "      <th>symbol</th>\n",
       "      <th>close</th>\n",
       "      <th>volume</th>\n",
       "      <th>weekday</th>\n",
       "      <th>dayofweek</th>\n",
       "    </tr>\n",
       "    <tr>\n",
       "      <th>date</th>\n",
       "      <th></th>\n",
       "      <th></th>\n",
       "      <th></th>\n",
       "      <th></th>\n",
       "      <th></th>\n",
       "    </tr>\n",
       "  </thead>\n",
       "  <tbody>\n",
       "    <tr>\n",
       "      <th>2017-07-01 11:00:00</th>\n",
       "      <td>ETHUSD</td>\n",
       "      <td>257.13</td>\n",
       "      <td>679358.87</td>\n",
       "      <td>Saturday</td>\n",
       "      <td>5</td>\n",
       "    </tr>\n",
       "    <tr>\n",
       "      <th>2017-07-01 12:00:00</th>\n",
       "      <td>ETHUSD</td>\n",
       "      <td>263.12</td>\n",
       "      <td>824362.87</td>\n",
       "      <td>Saturday</td>\n",
       "      <td>5</td>\n",
       "    </tr>\n",
       "    <tr>\n",
       "      <th>2017-07-01 13:00:00</th>\n",
       "      <td>ETHUSD</td>\n",
       "      <td>275.01</td>\n",
       "      <td>3010787.99</td>\n",
       "      <td>Saturday</td>\n",
       "      <td>5</td>\n",
       "    </tr>\n",
       "    <tr>\n",
       "      <th>2017-07-01 14:00:00</th>\n",
       "      <td>ETHUSD</td>\n",
       "      <td>274.83</td>\n",
       "      <td>1702536.85</td>\n",
       "      <td>Saturday</td>\n",
       "      <td>5</td>\n",
       "    </tr>\n",
       "    <tr>\n",
       "      <th>2017-07-01 15:00:00</th>\n",
       "      <td>ETHUSD</td>\n",
       "      <td>268.79</td>\n",
       "      <td>1500282.55</td>\n",
       "      <td>Saturday</td>\n",
       "      <td>5</td>\n",
       "    </tr>\n",
       "  </tbody>\n",
       "</table>\n",
       "</div>"
      ],
      "text/plain": [
       "                     symbol   close      volume   weekday  dayofweek\n",
       "date                                                                \n",
       "2017-07-01 11:00:00  ETHUSD  257.13   679358.87  Saturday          5\n",
       "2017-07-01 12:00:00  ETHUSD  263.12   824362.87  Saturday          5\n",
       "2017-07-01 13:00:00  ETHUSD  275.01  3010787.99  Saturday          5\n",
       "2017-07-01 14:00:00  ETHUSD  274.83  1702536.85  Saturday          5\n",
       "2017-07-01 15:00:00  ETHUSD  268.79  1500282.55  Saturday          5"
      ]
     },
     "execution_count": 82,
     "metadata": {},
     "output_type": "execute_result"
    }
   ],
   "source": [
    "df.head()\n"
   ]
  },
  {
   "cell_type": "code",
   "execution_count": 85,
   "id": "54fe2e72",
   "metadata": {},
   "outputs": [
    {
     "name": "stderr",
     "output_type": "stream",
     "text": [
      "/var/folders/_6/0nkpzhxj2_n85fz5s1rk__xr0000gn/T/ipykernel_7698/895745323.py:1: FutureWarning: The default value of numeric_only in DataFrameGroupBy.mean is deprecated. In a future version, numeric_only will default to False. Either specify numeric_only or select only columns which should be valid for the function.\n",
      "  df.groupby('weekday').mean().sort_values('dayofweek').close.plot()\n"
     ]
    },
    {
     "data": {
      "text/plain": [
       "<Axes: xlabel='weekday'>"
      ]
     },
     "execution_count": 85,
     "metadata": {},
     "output_type": "execute_result"
    },
    {
     "data": {
      "image/png": "[encoded data removed]",
      "text/plain": [
       "<Figure size 640x480 with 1 Axes>"
      ]
     },
     "metadata": {},
     "output_type": "display_data"
    }
   ],
   "source": [
    "df.groupby('weekday').mean().sort_values('dayofweek').close.plot() # puts days of the week in order"
   ]
  },
  {
   "cell_type": "markdown",
   "id": "a1dc60e6",
   "metadata": {},
   "source": [
    "### How do we subset the dataframe?"
   ]
  },
  {
   "cell_type": "markdown",
   "id": "aef687e6",
   "metadata": {},
   "source": [
    ".loc vs .iloc\n",
    "\n",
    "loc is by name\n",
    "iloc is by position"
   ]
  },
  {
   "cell_type": "code",
   "execution_count": 86,
   "id": "5686b622",
   "metadata": {},
   "outputs": [
    {
     "data": {
      "text/html": [
       "<div>\n",
       "<style scoped>\n",
       "    .dataframe tbody tr th:only-of-type {\n",
       "        vertical-align: middle;\n",
       "    }\n",
       "\n",
       "    .dataframe tbody tr th {\n",
       "        vertical-align: top;\n",
       "    }\n",
       "\n",
       "    .dataframe thead th {\n",
       "        text-align: right;\n",
       "    }\n",
       "</style>\n",
       "<table border=\"1\" class=\"dataframe\">\n",
       "  <thead>\n",
       "    <tr style=\"text-align: right;\">\n",
       "      <th></th>\n",
       "      <th>symbol</th>\n",
       "      <th>close</th>\n",
       "      <th>volume</th>\n",
       "      <th>weekday</th>\n",
       "      <th>dayofweek</th>\n",
       "    </tr>\n",
       "    <tr>\n",
       "      <th>date</th>\n",
       "      <th></th>\n",
       "      <th></th>\n",
       "      <th></th>\n",
       "      <th></th>\n",
       "      <th></th>\n",
       "    </tr>\n",
       "  </thead>\n",
       "  <tbody>\n",
       "    <tr>\n",
       "      <th>2017-07-02 00:00:00</th>\n",
       "      <td>ETHUSD</td>\n",
       "      <td>286.00</td>\n",
       "      <td>1323285.21</td>\n",
       "      <td>Sunday</td>\n",
       "      <td>6</td>\n",
       "    </tr>\n",
       "    <tr>\n",
       "      <th>2017-07-02 01:00:00</th>\n",
       "      <td>ETHUSD</td>\n",
       "      <td>259.90</td>\n",
       "      <td>956362.19</td>\n",
       "      <td>Sunday</td>\n",
       "      <td>6</td>\n",
       "    </tr>\n",
       "    <tr>\n",
       "      <th>2017-07-02 02:00:00</th>\n",
       "      <td>ETHUSD</td>\n",
       "      <td>257.02</td>\n",
       "      <td>1335138.27</td>\n",
       "      <td>Sunday</td>\n",
       "      <td>6</td>\n",
       "    </tr>\n",
       "    <tr>\n",
       "      <th>2017-07-02 03:00:00</th>\n",
       "      <td>ETHUSD</td>\n",
       "      <td>257.84</td>\n",
       "      <td>596059.44</td>\n",
       "      <td>Sunday</td>\n",
       "      <td>6</td>\n",
       "    </tr>\n",
       "    <tr>\n",
       "      <th>2017-07-02 04:00:00</th>\n",
       "      <td>ETHUSD</td>\n",
       "      <td>260.88</td>\n",
       "      <td>771738.33</td>\n",
       "      <td>Sunday</td>\n",
       "      <td>6</td>\n",
       "    </tr>\n",
       "    <tr>\n",
       "      <th>2017-07-02 05:00:00</th>\n",
       "      <td>ETHUSD</td>\n",
       "      <td>274.00</td>\n",
       "      <td>1746145.00</td>\n",
       "      <td>Sunday</td>\n",
       "      <td>6</td>\n",
       "    </tr>\n",
       "    <tr>\n",
       "      <th>2017-07-02 06:00:00</th>\n",
       "      <td>ETHUSD</td>\n",
       "      <td>263.37</td>\n",
       "      <td>590248.89</td>\n",
       "      <td>Sunday</td>\n",
       "      <td>6</td>\n",
       "    </tr>\n",
       "    <tr>\n",
       "      <th>2017-07-02 07:00:00</th>\n",
       "      <td>ETHUSD</td>\n",
       "      <td>265.89</td>\n",
       "      <td>983053.30</td>\n",
       "      <td>Sunday</td>\n",
       "      <td>6</td>\n",
       "    </tr>\n",
       "    <tr>\n",
       "      <th>2017-07-02 08:00:00</th>\n",
       "      <td>ETHUSD</td>\n",
       "      <td>263.53</td>\n",
       "      <td>2863655.38</td>\n",
       "      <td>Sunday</td>\n",
       "      <td>6</td>\n",
       "    </tr>\n",
       "    <tr>\n",
       "      <th>2017-07-02 09:00:00</th>\n",
       "      <td>ETHUSD</td>\n",
       "      <td>271.92</td>\n",
       "      <td>1152634.24</td>\n",
       "      <td>Sunday</td>\n",
       "      <td>6</td>\n",
       "    </tr>\n",
       "    <tr>\n",
       "      <th>2017-07-02 10:00:00</th>\n",
       "      <td>ETHUSD</td>\n",
       "      <td>278.30</td>\n",
       "      <td>1394564.60</td>\n",
       "      <td>Sunday</td>\n",
       "      <td>6</td>\n",
       "    </tr>\n",
       "    <tr>\n",
       "      <th>2017-07-02 11:00:00</th>\n",
       "      <td>ETHUSD</td>\n",
       "      <td>282.30</td>\n",
       "      <td>697030.65</td>\n",
       "      <td>Sunday</td>\n",
       "      <td>6</td>\n",
       "    </tr>\n",
       "    <tr>\n",
       "      <th>2017-07-02 12:00:00</th>\n",
       "      <td>ETHUSD</td>\n",
       "      <td>285.00</td>\n",
       "      <td>573434.18</td>\n",
       "      <td>Sunday</td>\n",
       "      <td>6</td>\n",
       "    </tr>\n",
       "    <tr>\n",
       "      <th>2017-07-02 13:00:00</th>\n",
       "      <td>ETHUSD</td>\n",
       "      <td>262.84</td>\n",
       "      <td>876227.38</td>\n",
       "      <td>Sunday</td>\n",
       "      <td>6</td>\n",
       "    </tr>\n",
       "    <tr>\n",
       "      <th>2017-07-02 14:00:00</th>\n",
       "      <td>ETHUSD</td>\n",
       "      <td>256.81</td>\n",
       "      <td>1304116.30</td>\n",
       "      <td>Sunday</td>\n",
       "      <td>6</td>\n",
       "    </tr>\n",
       "    <tr>\n",
       "      <th>2017-07-02 15:00:00</th>\n",
       "      <td>ETHUSD</td>\n",
       "      <td>263.20</td>\n",
       "      <td>2004006.68</td>\n",
       "      <td>Sunday</td>\n",
       "      <td>6</td>\n",
       "    </tr>\n",
       "    <tr>\n",
       "      <th>2017-07-02 16:00:00</th>\n",
       "      <td>ETHUSD</td>\n",
       "      <td>265.00</td>\n",
       "      <td>2682458.25</td>\n",
       "      <td>Sunday</td>\n",
       "      <td>6</td>\n",
       "    </tr>\n",
       "    <tr>\n",
       "      <th>2017-07-02 17:00:00</th>\n",
       "      <td>ETHUSD</td>\n",
       "      <td>269.56</td>\n",
       "      <td>7081816.11</td>\n",
       "      <td>Sunday</td>\n",
       "      <td>6</td>\n",
       "    </tr>\n",
       "    <tr>\n",
       "      <th>2017-07-02 18:00:00</th>\n",
       "      <td>ETHUSD</td>\n",
       "      <td>267.98</td>\n",
       "      <td>5618978.37</td>\n",
       "      <td>Sunday</td>\n",
       "      <td>6</td>\n",
       "    </tr>\n",
       "    <tr>\n",
       "      <th>2017-07-02 19:00:00</th>\n",
       "      <td>ETHUSD</td>\n",
       "      <td>262.01</td>\n",
       "      <td>3939023.86</td>\n",
       "      <td>Sunday</td>\n",
       "      <td>6</td>\n",
       "    </tr>\n",
       "    <tr>\n",
       "      <th>2017-07-02 20:00:00</th>\n",
       "      <td>ETHUSD</td>\n",
       "      <td>267.39</td>\n",
       "      <td>1436077.16</td>\n",
       "      <td>Sunday</td>\n",
       "      <td>6</td>\n",
       "    </tr>\n",
       "    <tr>\n",
       "      <th>2017-07-02 21:00:00</th>\n",
       "      <td>ETHUSD</td>\n",
       "      <td>281.00</td>\n",
       "      <td>6538721.57</td>\n",
       "      <td>Sunday</td>\n",
       "      <td>6</td>\n",
       "    </tr>\n",
       "    <tr>\n",
       "      <th>2017-07-02 22:00:00</th>\n",
       "      <td>ETHUSD</td>\n",
       "      <td>280.50</td>\n",
       "      <td>4048321.32</td>\n",
       "      <td>Sunday</td>\n",
       "      <td>6</td>\n",
       "    </tr>\n",
       "    <tr>\n",
       "      <th>2017-07-02 23:00:00</th>\n",
       "      <td>ETHUSD</td>\n",
       "      <td>292.54</td>\n",
       "      <td>1749191.10</td>\n",
       "      <td>Sunday</td>\n",
       "      <td>6</td>\n",
       "    </tr>\n",
       "  </tbody>\n",
       "</table>\n",
       "</div>"
      ],
      "text/plain": [
       "                     symbol   close      volume weekday  dayofweek\n",
       "date                                                              \n",
       "2017-07-02 00:00:00  ETHUSD  286.00  1323285.21  Sunday          6\n",
       "2017-07-02 01:00:00  ETHUSD  259.90   956362.19  Sunday          6\n",
       "2017-07-02 02:00:00  ETHUSD  257.02  1335138.27  Sunday          6\n",
       "2017-07-02 03:00:00  ETHUSD  257.84   596059.44  Sunday          6\n",
       "2017-07-02 04:00:00  ETHUSD  260.88   771738.33  Sunday          6\n",
       "2017-07-02 05:00:00  ETHUSD  274.00  1746145.00  Sunday          6\n",
       "2017-07-02 06:00:00  ETHUSD  263.37   590248.89  Sunday          6\n",
       "2017-07-02 07:00:00  ETHUSD  265.89   983053.30  Sunday          6\n",
       "2017-07-02 08:00:00  ETHUSD  263.53  2863655.38  Sunday          6\n",
       "2017-07-02 09:00:00  ETHUSD  271.92  1152634.24  Sunday          6\n",
       "2017-07-02 10:00:00  ETHUSD  278.30  1394564.60  Sunday          6\n",
       "2017-07-02 11:00:00  ETHUSD  282.30   697030.65  Sunday          6\n",
       "2017-07-02 12:00:00  ETHUSD  285.00   573434.18  Sunday          6\n",
       "2017-07-02 13:00:00  ETHUSD  262.84   876227.38  Sunday          6\n",
       "2017-07-02 14:00:00  ETHUSD  256.81  1304116.30  Sunday          6\n",
       "2017-07-02 15:00:00  ETHUSD  263.20  2004006.68  Sunday          6\n",
       "2017-07-02 16:00:00  ETHUSD  265.00  2682458.25  Sunday          6\n",
       "2017-07-02 17:00:00  ETHUSD  269.56  7081816.11  Sunday          6\n",
       "2017-07-02 18:00:00  ETHUSD  267.98  5618978.37  Sunday          6\n",
       "2017-07-02 19:00:00  ETHUSD  262.01  3939023.86  Sunday          6\n",
       "2017-07-02 20:00:00  ETHUSD  267.39  1436077.16  Sunday          6\n",
       "2017-07-02 21:00:00  ETHUSD  281.00  6538721.57  Sunday          6\n",
       "2017-07-02 22:00:00  ETHUSD  280.50  4048321.32  Sunday          6\n",
       "2017-07-02 23:00:00  ETHUSD  292.54  1749191.10  Sunday          6"
      ]
     },
     "execution_count": 86,
     "metadata": {},
     "output_type": "execute_result"
    }
   ],
   "source": [
    "df.loc['2017-07-02'] #gives everything by given date, can put in : between 2 dates for a date range"
   ]
  },
  {
   "cell_type": "markdown",
   "id": "e23bee91",
   "metadata": {},
   "source": [
    "### Different period of data"
   ]
  },
  {
   "cell_type": "markdown",
   "id": "bf722b54",
   "metadata": {},
   "source": [
    "#### Downsampling: reduce number of rows (less granular), use asfreq"
   ]
  },
  {
   "cell_type": "code",
   "execution_count": 87,
   "id": "4d575beb",
   "metadata": {},
   "outputs": [
    {
     "data": {
      "text/html": [
       "<div>\n",
       "<style scoped>\n",
       "    .dataframe tbody tr th:only-of-type {\n",
       "        vertical-align: middle;\n",
       "    }\n",
       "\n",
       "    .dataframe tbody tr th {\n",
       "        vertical-align: top;\n",
       "    }\n",
       "\n",
       "    .dataframe thead th {\n",
       "        text-align: right;\n",
       "    }\n",
       "</style>\n",
       "<table border=\"1\" class=\"dataframe\">\n",
       "  <thead>\n",
       "    <tr style=\"text-align: right;\">\n",
       "      <th></th>\n",
       "      <th>symbol</th>\n",
       "      <th>close</th>\n",
       "      <th>volume</th>\n",
       "      <th>weekday</th>\n",
       "      <th>dayofweek</th>\n",
       "    </tr>\n",
       "    <tr>\n",
       "      <th>date</th>\n",
       "      <th></th>\n",
       "      <th></th>\n",
       "      <th></th>\n",
       "      <th></th>\n",
       "      <th></th>\n",
       "    </tr>\n",
       "  </thead>\n",
       "  <tbody>\n",
       "    <tr>\n",
       "      <th>2017-07-01 11:00:00</th>\n",
       "      <td>ETHUSD</td>\n",
       "      <td>257.13</td>\n",
       "      <td>679358.87</td>\n",
       "      <td>Saturday</td>\n",
       "      <td>5</td>\n",
       "    </tr>\n",
       "    <tr>\n",
       "      <th>2017-07-02 11:00:00</th>\n",
       "      <td>ETHUSD</td>\n",
       "      <td>282.30</td>\n",
       "      <td>697030.65</td>\n",
       "      <td>Sunday</td>\n",
       "      <td>6</td>\n",
       "    </tr>\n",
       "    <tr>\n",
       "      <th>2017-07-03 11:00:00</th>\n",
       "      <td>ETHUSD</td>\n",
       "      <td>279.50</td>\n",
       "      <td>1218731.52</td>\n",
       "      <td>Monday</td>\n",
       "      <td>0</td>\n",
       "    </tr>\n",
       "    <tr>\n",
       "      <th>2017-07-04 11:00:00</th>\n",
       "      <td>ETHUSD</td>\n",
       "      <td>269.57</td>\n",
       "      <td>391696.83</td>\n",
       "      <td>Tuesday</td>\n",
       "      <td>1</td>\n",
       "    </tr>\n",
       "    <tr>\n",
       "      <th>2017-07-05 11:00:00</th>\n",
       "      <td>ETHUSD</td>\n",
       "      <td>265.20</td>\n",
       "      <td>1110376.59</td>\n",
       "      <td>Wednesday</td>\n",
       "      <td>2</td>\n",
       "    </tr>\n",
       "    <tr>\n",
       "      <th>...</th>\n",
       "      <td>...</td>\n",
       "      <td>...</td>\n",
       "      <td>...</td>\n",
       "      <td>...</td>\n",
       "      <td>...</td>\n",
       "    </tr>\n",
       "    <tr>\n",
       "      <th>2020-03-09 11:00:00</th>\n",
       "      <td>ETHUSD</td>\n",
       "      <td>198.34</td>\n",
       "      <td>3145976.84</td>\n",
       "      <td>Monday</td>\n",
       "      <td>0</td>\n",
       "    </tr>\n",
       "    <tr>\n",
       "      <th>2020-03-10 11:00:00</th>\n",
       "      <td>ETHUSD</td>\n",
       "      <td>203.12</td>\n",
       "      <td>1871438.76</td>\n",
       "      <td>Tuesday</td>\n",
       "      <td>1</td>\n",
       "    </tr>\n",
       "    <tr>\n",
       "      <th>2020-03-11 11:00:00</th>\n",
       "      <td>ETHUSD</td>\n",
       "      <td>193.37</td>\n",
       "      <td>664974.80</td>\n",
       "      <td>Wednesday</td>\n",
       "      <td>2</td>\n",
       "    </tr>\n",
       "    <tr>\n",
       "      <th>2020-03-12 11:00:00</th>\n",
       "      <td>ETHUSD</td>\n",
       "      <td>128.15</td>\n",
       "      <td>16556632.80</td>\n",
       "      <td>Thursday</td>\n",
       "      <td>3</td>\n",
       "    </tr>\n",
       "    <tr>\n",
       "      <th>2020-03-13 11:00:00</th>\n",
       "      <td>ETHUSD</td>\n",
       "      <td>119.51</td>\n",
       "      <td>3311080.29</td>\n",
       "      <td>Friday</td>\n",
       "      <td>4</td>\n",
       "    </tr>\n",
       "  </tbody>\n",
       "</table>\n",
       "<p>987 rows × 5 columns</p>\n",
       "</div>"
      ],
      "text/plain": [
       "                     symbol   close       volume    weekday  dayofweek\n",
       "date                                                                  \n",
       "2017-07-01 11:00:00  ETHUSD  257.13    679358.87   Saturday          5\n",
       "2017-07-02 11:00:00  ETHUSD  282.30    697030.65     Sunday          6\n",
       "2017-07-03 11:00:00  ETHUSD  279.50   1218731.52     Monday          0\n",
       "2017-07-04 11:00:00  ETHUSD  269.57    391696.83    Tuesday          1\n",
       "2017-07-05 11:00:00  ETHUSD  265.20   1110376.59  Wednesday          2\n",
       "...                     ...     ...          ...        ...        ...\n",
       "2020-03-09 11:00:00  ETHUSD  198.34   3145976.84     Monday          0\n",
       "2020-03-10 11:00:00  ETHUSD  203.12   1871438.76    Tuesday          1\n",
       "2020-03-11 11:00:00  ETHUSD  193.37    664974.80  Wednesday          2\n",
       "2020-03-12 11:00:00  ETHUSD  128.15  16556632.80   Thursday          3\n",
       "2020-03-13 11:00:00  ETHUSD  119.51   3311080.29     Friday          4\n",
       "\n",
       "[987 rows x 5 columns]"
      ]
     },
     "execution_count": 87,
     "metadata": {},
     "output_type": "execute_result"
    }
   ],
   "source": [
    "df.asfreq('D') # puts frequency to D for Day"
   ]
  },
  {
   "cell_type": "code",
   "execution_count": 88,
   "id": "08672aa2",
   "metadata": {},
   "outputs": [
    {
     "data": {
      "text/html": [
       "<div>\n",
       "<style scoped>\n",
       "    .dataframe tbody tr th:only-of-type {\n",
       "        vertical-align: middle;\n",
       "    }\n",
       "\n",
       "    .dataframe tbody tr th {\n",
       "        vertical-align: top;\n",
       "    }\n",
       "\n",
       "    .dataframe thead th {\n",
       "        text-align: right;\n",
       "    }\n",
       "</style>\n",
       "<table border=\"1\" class=\"dataframe\">\n",
       "  <thead>\n",
       "    <tr style=\"text-align: right;\">\n",
       "      <th></th>\n",
       "      <th>symbol</th>\n",
       "      <th>close</th>\n",
       "      <th>volume</th>\n",
       "      <th>weekday</th>\n",
       "      <th>dayofweek</th>\n",
       "    </tr>\n",
       "    <tr>\n",
       "      <th>date</th>\n",
       "      <th></th>\n",
       "      <th></th>\n",
       "      <th></th>\n",
       "      <th></th>\n",
       "      <th></th>\n",
       "    </tr>\n",
       "  </thead>\n",
       "  <tbody>\n",
       "    <tr>\n",
       "      <th>2017-07-31 11:00:00</th>\n",
       "      <td>ETHUSD</td>\n",
       "      <td>199.96</td>\n",
       "      <td>1058461.41</td>\n",
       "      <td>Monday</td>\n",
       "      <td>0</td>\n",
       "    </tr>\n",
       "    <tr>\n",
       "      <th>2017-08-31 11:00:00</th>\n",
       "      <td>ETHUSD</td>\n",
       "      <td>388.19</td>\n",
       "      <td>1189036.71</td>\n",
       "      <td>Thursday</td>\n",
       "      <td>3</td>\n",
       "    </tr>\n",
       "    <tr>\n",
       "      <th>2017-09-30 11:00:00</th>\n",
       "      <td>ETHUSD</td>\n",
       "      <td>300.37</td>\n",
       "      <td>1002416.23</td>\n",
       "      <td>Saturday</td>\n",
       "      <td>5</td>\n",
       "    </tr>\n",
       "    <tr>\n",
       "      <th>2017-10-31 11:00:00</th>\n",
       "      <td>ETHUSD</td>\n",
       "      <td>303.45</td>\n",
       "      <td>1014184.66</td>\n",
       "      <td>Tuesday</td>\n",
       "      <td>1</td>\n",
       "    </tr>\n",
       "    <tr>\n",
       "      <th>2017-11-30 11:00:00</th>\n",
       "      <td>ETHUSD</td>\n",
       "      <td>420.42</td>\n",
       "      <td>3367153.22</td>\n",
       "      <td>Thursday</td>\n",
       "      <td>3</td>\n",
       "    </tr>\n",
       "    <tr>\n",
       "      <th>2017-12-31 11:00:00</th>\n",
       "      <td>ETHUSD</td>\n",
       "      <td>750.11</td>\n",
       "      <td>1380263.49</td>\n",
       "      <td>Sunday</td>\n",
       "      <td>6</td>\n",
       "    </tr>\n",
       "    <tr>\n",
       "      <th>2018-01-31 11:00:00</th>\n",
       "      <td>ETHUSD</td>\n",
       "      <td>1090.00</td>\n",
       "      <td>3979122.71</td>\n",
       "      <td>Wednesday</td>\n",
       "      <td>2</td>\n",
       "    </tr>\n",
       "    <tr>\n",
       "      <th>2018-02-28 11:00:00</th>\n",
       "      <td>ETHUSD</td>\n",
       "      <td>869.62</td>\n",
       "      <td>1252993.15</td>\n",
       "      <td>Wednesday</td>\n",
       "      <td>2</td>\n",
       "    </tr>\n",
       "    <tr>\n",
       "      <th>2018-03-31 11:00:00</th>\n",
       "      <td>ETHUSD</td>\n",
       "      <td>394.53</td>\n",
       "      <td>1226088.77</td>\n",
       "      <td>Saturday</td>\n",
       "      <td>5</td>\n",
       "    </tr>\n",
       "    <tr>\n",
       "      <th>2018-04-30 11:00:00</th>\n",
       "      <td>ETHUSD</td>\n",
       "      <td>670.95</td>\n",
       "      <td>2260051.59</td>\n",
       "      <td>Monday</td>\n",
       "      <td>0</td>\n",
       "    </tr>\n",
       "    <tr>\n",
       "      <th>2018-05-31 11:00:00</th>\n",
       "      <td>ETHUSD</td>\n",
       "      <td>581.08</td>\n",
       "      <td>1388262.02</td>\n",
       "      <td>Thursday</td>\n",
       "      <td>3</td>\n",
       "    </tr>\n",
       "    <tr>\n",
       "      <th>2018-06-30 11:00:00</th>\n",
       "      <td>ETHUSD</td>\n",
       "      <td>445.82</td>\n",
       "      <td>444762.58</td>\n",
       "      <td>Saturday</td>\n",
       "      <td>5</td>\n",
       "    </tr>\n",
       "    <tr>\n",
       "      <th>2018-07-31 11:00:00</th>\n",
       "      <td>ETHUSD</td>\n",
       "      <td>431.95</td>\n",
       "      <td>1242942.99</td>\n",
       "      <td>Tuesday</td>\n",
       "      <td>1</td>\n",
       "    </tr>\n",
       "    <tr>\n",
       "      <th>2018-08-31 11:00:00</th>\n",
       "      <td>ETHUSD</td>\n",
       "      <td>283.19</td>\n",
       "      <td>246582.85</td>\n",
       "      <td>Friday</td>\n",
       "      <td>4</td>\n",
       "    </tr>\n",
       "    <tr>\n",
       "      <th>2018-09-30 11:00:00</th>\n",
       "      <td>ETHUSD</td>\n",
       "      <td>228.15</td>\n",
       "      <td>1072230.56</td>\n",
       "      <td>Sunday</td>\n",
       "      <td>6</td>\n",
       "    </tr>\n",
       "    <tr>\n",
       "      <th>2018-10-31 11:00:00</th>\n",
       "      <td>ETHUSD</td>\n",
       "      <td>196.26</td>\n",
       "      <td>108858.72</td>\n",
       "      <td>Wednesday</td>\n",
       "      <td>2</td>\n",
       "    </tr>\n",
       "    <tr>\n",
       "      <th>2018-11-30 11:00:00</th>\n",
       "      <td>ETHUSD</td>\n",
       "      <td>112.58</td>\n",
       "      <td>1249093.40</td>\n",
       "      <td>Friday</td>\n",
       "      <td>4</td>\n",
       "    </tr>\n",
       "    <tr>\n",
       "      <th>2018-12-31 11:00:00</th>\n",
       "      <td>ETHUSD</td>\n",
       "      <td>130.90</td>\n",
       "      <td>690654.61</td>\n",
       "      <td>Monday</td>\n",
       "      <td>0</td>\n",
       "    </tr>\n",
       "    <tr>\n",
       "      <th>2019-01-31 11:00:00</th>\n",
       "      <td>ETHUSD</td>\n",
       "      <td>106.23</td>\n",
       "      <td>199532.04</td>\n",
       "      <td>Thursday</td>\n",
       "      <td>3</td>\n",
       "    </tr>\n",
       "    <tr>\n",
       "      <th>2019-02-28 11:00:00</th>\n",
       "      <td>ETHUSD</td>\n",
       "      <td>134.99</td>\n",
       "      <td>172517.96</td>\n",
       "      <td>Thursday</td>\n",
       "      <td>3</td>\n",
       "    </tr>\n",
       "    <tr>\n",
       "      <th>2019-03-31 11:00:00</th>\n",
       "      <td>ETHUSD</td>\n",
       "      <td>141.04</td>\n",
       "      <td>232641.36</td>\n",
       "      <td>Sunday</td>\n",
       "      <td>6</td>\n",
       "    </tr>\n",
       "    <tr>\n",
       "      <th>2019-04-30 11:00:00</th>\n",
       "      <td>ETHUSD</td>\n",
       "      <td>156.43</td>\n",
       "      <td>478288.14</td>\n",
       "      <td>Tuesday</td>\n",
       "      <td>1</td>\n",
       "    </tr>\n",
       "    <tr>\n",
       "      <th>2019-05-31 11:00:00</th>\n",
       "      <td>ETHUSD</td>\n",
       "      <td>262.23</td>\n",
       "      <td>662192.98</td>\n",
       "      <td>Friday</td>\n",
       "      <td>4</td>\n",
       "    </tr>\n",
       "    <tr>\n",
       "      <th>2019-06-30 11:00:00</th>\n",
       "      <td>ETHUSD</td>\n",
       "      <td>303.84</td>\n",
       "      <td>2209961.96</td>\n",
       "      <td>Sunday</td>\n",
       "      <td>6</td>\n",
       "    </tr>\n",
       "    <tr>\n",
       "      <th>2019-07-31 11:00:00</th>\n",
       "      <td>ETHUSD</td>\n",
       "      <td>215.60</td>\n",
       "      <td>253542.72</td>\n",
       "      <td>Wednesday</td>\n",
       "      <td>2</td>\n",
       "    </tr>\n",
       "    <tr>\n",
       "      <th>2019-08-31 11:00:00</th>\n",
       "      <td>ETHUSD</td>\n",
       "      <td>166.56</td>\n",
       "      <td>73901.86</td>\n",
       "      <td>Saturday</td>\n",
       "      <td>5</td>\n",
       "    </tr>\n",
       "    <tr>\n",
       "      <th>2019-09-30 11:00:00</th>\n",
       "      <td>ETHUSD</td>\n",
       "      <td>176.99</td>\n",
       "      <td>706078.01</td>\n",
       "      <td>Monday</td>\n",
       "      <td>0</td>\n",
       "    </tr>\n",
       "    <tr>\n",
       "      <th>2019-10-31 11:00:00</th>\n",
       "      <td>ETHUSD</td>\n",
       "      <td>181.81</td>\n",
       "      <td>354137.15</td>\n",
       "      <td>Thursday</td>\n",
       "      <td>3</td>\n",
       "    </tr>\n",
       "    <tr>\n",
       "      <th>2019-11-30 11:00:00</th>\n",
       "      <td>ETHUSD</td>\n",
       "      <td>150.99</td>\n",
       "      <td>154045.58</td>\n",
       "      <td>Saturday</td>\n",
       "      <td>5</td>\n",
       "    </tr>\n",
       "    <tr>\n",
       "      <th>2019-12-31 11:00:00</th>\n",
       "      <td>ETHUSD</td>\n",
       "      <td>127.86</td>\n",
       "      <td>65767.78</td>\n",
       "      <td>Tuesday</td>\n",
       "      <td>1</td>\n",
       "    </tr>\n",
       "    <tr>\n",
       "      <th>2020-01-31 11:00:00</th>\n",
       "      <td>ETHUSD</td>\n",
       "      <td>180.31</td>\n",
       "      <td>521089.44</td>\n",
       "      <td>Friday</td>\n",
       "      <td>4</td>\n",
       "    </tr>\n",
       "    <tr>\n",
       "      <th>2020-02-29 11:00:00</th>\n",
       "      <td>ETHUSD</td>\n",
       "      <td>224.63</td>\n",
       "      <td>684186.89</td>\n",
       "      <td>Saturday</td>\n",
       "      <td>5</td>\n",
       "    </tr>\n",
       "  </tbody>\n",
       "</table>\n",
       "</div>"
      ],
      "text/plain": [
       "                     symbol    close      volume    weekday  dayofweek\n",
       "date                                                                  \n",
       "2017-07-31 11:00:00  ETHUSD   199.96  1058461.41     Monday          0\n",
       "2017-08-31 11:00:00  ETHUSD   388.19  1189036.71   Thursday          3\n",
       "2017-09-30 11:00:00  ETHUSD   300.37  1002416.23   Saturday          5\n",
       "2017-10-31 11:00:00  ETHUSD   303.45  1014184.66    Tuesday          1\n",
       "2017-11-30 11:00:00  ETHUSD   420.42  3367153.22   Thursday          3\n",
       "2017-12-31 11:00:00  ETHUSD   750.11  1380263.49     Sunday          6\n",
       "2018-01-31 11:00:00  ETHUSD  1090.00  3979122.71  Wednesday          2\n",
       "2018-02-28 11:00:00  ETHUSD   869.62  1252993.15  Wednesday          2\n",
       "2018-03-31 11:00:00  ETHUSD   394.53  1226088.77   Saturday          5\n",
       "2018-04-30 11:00:00  ETHUSD   670.95  2260051.59     Monday          0\n",
       "2018-05-31 11:00:00  ETHUSD   581.08  1388262.02   Thursday          3\n",
       "2018-06-30 11:00:00  ETHUSD   445.82   444762.58   Saturday          5\n",
       "2018-07-31 11:00:00  ETHUSD   431.95  1242942.99    Tuesday          1\n",
       "2018-08-31 11:00:00  ETHUSD   283.19   246582.85     Friday          4\n",
       "2018-09-30 11:00:00  ETHUSD   228.15  1072230.56     Sunday          6\n",
       "2018-10-31 11:00:00  ETHUSD   196.26   108858.72  Wednesday          2\n",
       "2018-11-30 11:00:00  ETHUSD   112.58  1249093.40     Friday          4\n",
       "2018-12-31 11:00:00  ETHUSD   130.90   690654.61     Monday          0\n",
       "2019-01-31 11:00:00  ETHUSD   106.23   199532.04   Thursday          3\n",
       "2019-02-28 11:00:00  ETHUSD   134.99   172517.96   Thursday          3\n",
       "2019-03-31 11:00:00  ETHUSD   141.04   232641.36     Sunday          6\n",
       "2019-04-30 11:00:00  ETHUSD   156.43   478288.14    Tuesday          1\n",
       "2019-05-31 11:00:00  ETHUSD   262.23   662192.98     Friday          4\n",
       "2019-06-30 11:00:00  ETHUSD   303.84  2209961.96     Sunday          6\n",
       "2019-07-31 11:00:00  ETHUSD   215.60   253542.72  Wednesday          2\n",
       "2019-08-31 11:00:00  ETHUSD   166.56    73901.86   Saturday          5\n",
       "2019-09-30 11:00:00  ETHUSD   176.99   706078.01     Monday          0\n",
       "2019-10-31 11:00:00  ETHUSD   181.81   354137.15   Thursday          3\n",
       "2019-11-30 11:00:00  ETHUSD   150.99   154045.58   Saturday          5\n",
       "2019-12-31 11:00:00  ETHUSD   127.86    65767.78    Tuesday          1\n",
       "2020-01-31 11:00:00  ETHUSD   180.31   521089.44     Friday          4\n",
       "2020-02-29 11:00:00  ETHUSD   224.63   684186.89   Saturday          5"
      ]
     },
     "execution_count": 88,
     "metadata": {},
     "output_type": "execute_result"
    }
   ],
   "source": [
    "df.asfreq('M') # monthly frequency "
   ]
  },
  {
   "cell_type": "markdown",
   "id": "062d1188",
   "metadata": {},
   "source": [
    "### Upsampling: increasing rows, more granularity"
   ]
  },
  {
   "cell_type": "code",
   "execution_count": 89,
   "id": "84f193b2",
   "metadata": {},
   "outputs": [
    {
     "data": {
      "text/html": [
       "<div>\n",
       "<style scoped>\n",
       "    .dataframe tbody tr th:only-of-type {\n",
       "        vertical-align: middle;\n",
       "    }\n",
       "\n",
       "    .dataframe tbody tr th {\n",
       "        vertical-align: top;\n",
       "    }\n",
       "\n",
       "    .dataframe thead th {\n",
       "        text-align: right;\n",
       "    }\n",
       "</style>\n",
       "<table border=\"1\" class=\"dataframe\">\n",
       "  <thead>\n",
       "    <tr style=\"text-align: right;\">\n",
       "      <th></th>\n",
       "      <th>symbol</th>\n",
       "      <th>close</th>\n",
       "      <th>volume</th>\n",
       "      <th>weekday</th>\n",
       "      <th>dayofweek</th>\n",
       "    </tr>\n",
       "    <tr>\n",
       "      <th>date</th>\n",
       "      <th></th>\n",
       "      <th></th>\n",
       "      <th></th>\n",
       "      <th></th>\n",
       "      <th></th>\n",
       "    </tr>\n",
       "  </thead>\n",
       "  <tbody>\n",
       "    <tr>\n",
       "      <th>2017-07-01 11:00:00</th>\n",
       "      <td>ETHUSD</td>\n",
       "      <td>257.13</td>\n",
       "      <td>679358.87</td>\n",
       "      <td>Saturday</td>\n",
       "      <td>5.0</td>\n",
       "    </tr>\n",
       "    <tr>\n",
       "      <th>2017-07-01 11:30:00</th>\n",
       "      <td>NaN</td>\n",
       "      <td>NaN</td>\n",
       "      <td>NaN</td>\n",
       "      <td>NaN</td>\n",
       "      <td>NaN</td>\n",
       "    </tr>\n",
       "    <tr>\n",
       "      <th>2017-07-01 12:00:00</th>\n",
       "      <td>ETHUSD</td>\n",
       "      <td>263.12</td>\n",
       "      <td>824362.87</td>\n",
       "      <td>Saturday</td>\n",
       "      <td>5.0</td>\n",
       "    </tr>\n",
       "    <tr>\n",
       "      <th>2017-07-01 12:30:00</th>\n",
       "      <td>NaN</td>\n",
       "      <td>NaN</td>\n",
       "      <td>NaN</td>\n",
       "      <td>NaN</td>\n",
       "      <td>NaN</td>\n",
       "    </tr>\n",
       "    <tr>\n",
       "      <th>2017-07-01 13:00:00</th>\n",
       "      <td>ETHUSD</td>\n",
       "      <td>275.01</td>\n",
       "      <td>3010787.99</td>\n",
       "      <td>Saturday</td>\n",
       "      <td>5.0</td>\n",
       "    </tr>\n",
       "    <tr>\n",
       "      <th>...</th>\n",
       "      <td>...</td>\n",
       "      <td>...</td>\n",
       "      <td>...</td>\n",
       "      <td>...</td>\n",
       "      <td>...</td>\n",
       "    </tr>\n",
       "    <tr>\n",
       "      <th>2020-03-13 18:00:00</th>\n",
       "      <td>ETHUSD</td>\n",
       "      <td>128.93</td>\n",
       "      <td>4898735.81</td>\n",
       "      <td>Friday</td>\n",
       "      <td>4.0</td>\n",
       "    </tr>\n",
       "    <tr>\n",
       "      <th>2020-03-13 18:30:00</th>\n",
       "      <td>NaN</td>\n",
       "      <td>NaN</td>\n",
       "      <td>NaN</td>\n",
       "      <td>NaN</td>\n",
       "      <td>NaN</td>\n",
       "    </tr>\n",
       "    <tr>\n",
       "      <th>2020-03-13 19:00:00</th>\n",
       "      <td>ETHUSD</td>\n",
       "      <td>134.03</td>\n",
       "      <td>7579741.09</td>\n",
       "      <td>Friday</td>\n",
       "      <td>4.0</td>\n",
       "    </tr>\n",
       "    <tr>\n",
       "      <th>2020-03-13 19:30:00</th>\n",
       "      <td>NaN</td>\n",
       "      <td>NaN</td>\n",
       "      <td>NaN</td>\n",
       "      <td>NaN</td>\n",
       "      <td>NaN</td>\n",
       "    </tr>\n",
       "    <tr>\n",
       "      <th>2020-03-13 20:00:00</th>\n",
       "      <td>ETHUSD</td>\n",
       "      <td>124.85</td>\n",
       "      <td>1940673.93</td>\n",
       "      <td>Friday</td>\n",
       "      <td>4.0</td>\n",
       "    </tr>\n",
       "  </tbody>\n",
       "</table>\n",
       "<p>47347 rows × 5 columns</p>\n",
       "</div>"
      ],
      "text/plain": [
       "                     symbol   close      volume   weekday  dayofweek\n",
       "date                                                                \n",
       "2017-07-01 11:00:00  ETHUSD  257.13   679358.87  Saturday        5.0\n",
       "2017-07-01 11:30:00     NaN     NaN         NaN       NaN        NaN\n",
       "2017-07-01 12:00:00  ETHUSD  263.12   824362.87  Saturday        5.0\n",
       "2017-07-01 12:30:00     NaN     NaN         NaN       NaN        NaN\n",
       "2017-07-01 13:00:00  ETHUSD  275.01  3010787.99  Saturday        5.0\n",
       "...                     ...     ...         ...       ...        ...\n",
       "2020-03-13 18:00:00  ETHUSD  128.93  4898735.81    Friday        4.0\n",
       "2020-03-13 18:30:00     NaN     NaN         NaN       NaN        NaN\n",
       "2020-03-13 19:00:00  ETHUSD  134.03  7579741.09    Friday        4.0\n",
       "2020-03-13 19:30:00     NaN     NaN         NaN       NaN        NaN\n",
       "2020-03-13 20:00:00  ETHUSD  124.85  1940673.93    Friday        4.0\n",
       "\n",
       "[47347 rows x 5 columns]"
      ]
     },
     "execution_count": 89,
     "metadata": {},
     "output_type": "execute_result"
    }
   ],
   "source": [
    "df.asfreq('30T') # every 30 minutes, produces nulls"
   ]
  },
  {
   "cell_type": "code",
   "execution_count": 90,
   "id": "cdaa08b3",
   "metadata": {},
   "outputs": [
    {
     "data": {
      "text/html": [
       "<div>\n",
       "<style scoped>\n",
       "    .dataframe tbody tr th:only-of-type {\n",
       "        vertical-align: middle;\n",
       "    }\n",
       "\n",
       "    .dataframe tbody tr th {\n",
       "        vertical-align: top;\n",
       "    }\n",
       "\n",
       "    .dataframe thead th {\n",
       "        text-align: right;\n",
       "    }\n",
       "</style>\n",
       "<table border=\"1\" class=\"dataframe\">\n",
       "  <thead>\n",
       "    <tr style=\"text-align: right;\">\n",
       "      <th></th>\n",
       "      <th>symbol</th>\n",
       "      <th>close</th>\n",
       "      <th>volume</th>\n",
       "      <th>weekday</th>\n",
       "      <th>dayofweek</th>\n",
       "    </tr>\n",
       "    <tr>\n",
       "      <th>date</th>\n",
       "      <th></th>\n",
       "      <th></th>\n",
       "      <th></th>\n",
       "      <th></th>\n",
       "      <th></th>\n",
       "    </tr>\n",
       "  </thead>\n",
       "  <tbody>\n",
       "    <tr>\n",
       "      <th>2017-07-01 11:00:00</th>\n",
       "      <td>ETHUSD</td>\n",
       "      <td>257.13</td>\n",
       "      <td>679358.87</td>\n",
       "      <td>Saturday</td>\n",
       "      <td>5</td>\n",
       "    </tr>\n",
       "    <tr>\n",
       "      <th>2017-07-01 11:30:00</th>\n",
       "      <td>ETHUSD</td>\n",
       "      <td>257.13</td>\n",
       "      <td>679358.87</td>\n",
       "      <td>Saturday</td>\n",
       "      <td>5</td>\n",
       "    </tr>\n",
       "    <tr>\n",
       "      <th>2017-07-01 12:00:00</th>\n",
       "      <td>ETHUSD</td>\n",
       "      <td>263.12</td>\n",
       "      <td>824362.87</td>\n",
       "      <td>Saturday</td>\n",
       "      <td>5</td>\n",
       "    </tr>\n",
       "    <tr>\n",
       "      <th>2017-07-01 12:30:00</th>\n",
       "      <td>ETHUSD</td>\n",
       "      <td>263.12</td>\n",
       "      <td>824362.87</td>\n",
       "      <td>Saturday</td>\n",
       "      <td>5</td>\n",
       "    </tr>\n",
       "    <tr>\n",
       "      <th>2017-07-01 13:00:00</th>\n",
       "      <td>ETHUSD</td>\n",
       "      <td>275.01</td>\n",
       "      <td>3010787.99</td>\n",
       "      <td>Saturday</td>\n",
       "      <td>5</td>\n",
       "    </tr>\n",
       "    <tr>\n",
       "      <th>...</th>\n",
       "      <td>...</td>\n",
       "      <td>...</td>\n",
       "      <td>...</td>\n",
       "      <td>...</td>\n",
       "      <td>...</td>\n",
       "    </tr>\n",
       "    <tr>\n",
       "      <th>2020-03-13 18:00:00</th>\n",
       "      <td>ETHUSD</td>\n",
       "      <td>128.93</td>\n",
       "      <td>4898735.81</td>\n",
       "      <td>Friday</td>\n",
       "      <td>4</td>\n",
       "    </tr>\n",
       "    <tr>\n",
       "      <th>2020-03-13 18:30:00</th>\n",
       "      <td>ETHUSD</td>\n",
       "      <td>128.93</td>\n",
       "      <td>4898735.81</td>\n",
       "      <td>Friday</td>\n",
       "      <td>4</td>\n",
       "    </tr>\n",
       "    <tr>\n",
       "      <th>2020-03-13 19:00:00</th>\n",
       "      <td>ETHUSD</td>\n",
       "      <td>134.03</td>\n",
       "      <td>7579741.09</td>\n",
       "      <td>Friday</td>\n",
       "      <td>4</td>\n",
       "    </tr>\n",
       "    <tr>\n",
       "      <th>2020-03-13 19:30:00</th>\n",
       "      <td>ETHUSD</td>\n",
       "      <td>134.03</td>\n",
       "      <td>7579741.09</td>\n",
       "      <td>Friday</td>\n",
       "      <td>4</td>\n",
       "    </tr>\n",
       "    <tr>\n",
       "      <th>2020-03-13 20:00:00</th>\n",
       "      <td>ETHUSD</td>\n",
       "      <td>124.85</td>\n",
       "      <td>1940673.93</td>\n",
       "      <td>Friday</td>\n",
       "      <td>4</td>\n",
       "    </tr>\n",
       "  </tbody>\n",
       "</table>\n",
       "<p>47347 rows × 5 columns</p>\n",
       "</div>"
      ],
      "text/plain": [
       "                     symbol   close      volume   weekday  dayofweek\n",
       "date                                                                \n",
       "2017-07-01 11:00:00  ETHUSD  257.13   679358.87  Saturday          5\n",
       "2017-07-01 11:30:00  ETHUSD  257.13   679358.87  Saturday          5\n",
       "2017-07-01 12:00:00  ETHUSD  263.12   824362.87  Saturday          5\n",
       "2017-07-01 12:30:00  ETHUSD  263.12   824362.87  Saturday          5\n",
       "2017-07-01 13:00:00  ETHUSD  275.01  3010787.99  Saturday          5\n",
       "...                     ...     ...         ...       ...        ...\n",
       "2020-03-13 18:00:00  ETHUSD  128.93  4898735.81    Friday          4\n",
       "2020-03-13 18:30:00  ETHUSD  128.93  4898735.81    Friday          4\n",
       "2020-03-13 19:00:00  ETHUSD  134.03  7579741.09    Friday          4\n",
       "2020-03-13 19:30:00  ETHUSD  134.03  7579741.09    Friday          4\n",
       "2020-03-13 20:00:00  ETHUSD  124.85  1940673.93    Friday          4\n",
       "\n",
       "[47347 rows x 5 columns]"
      ]
     },
     "execution_count": 90,
     "metadata": {},
     "output_type": "execute_result"
    }
   ],
   "source": [
    "#forward filling nulls, next value\n",
    "df.asfreq('30T', method='ffill')"
   ]
  },
  {
   "cell_type": "code",
   "execution_count": 92,
   "id": "9d292eba",
   "metadata": {},
   "outputs": [
    {
     "data": {
      "text/html": [
       "<div>\n",
       "<style scoped>\n",
       "    .dataframe tbody tr th:only-of-type {\n",
       "        vertical-align: middle;\n",
       "    }\n",
       "\n",
       "    .dataframe tbody tr th {\n",
       "        vertical-align: top;\n",
       "    }\n",
       "\n",
       "    .dataframe thead th {\n",
       "        text-align: right;\n",
       "    }\n",
       "</style>\n",
       "<table border=\"1\" class=\"dataframe\">\n",
       "  <thead>\n",
       "    <tr style=\"text-align: right;\">\n",
       "      <th></th>\n",
       "      <th>symbol</th>\n",
       "      <th>close</th>\n",
       "      <th>volume</th>\n",
       "      <th>weekday</th>\n",
       "      <th>dayofweek</th>\n",
       "    </tr>\n",
       "    <tr>\n",
       "      <th>date</th>\n",
       "      <th></th>\n",
       "      <th></th>\n",
       "      <th></th>\n",
       "      <th></th>\n",
       "      <th></th>\n",
       "    </tr>\n",
       "  </thead>\n",
       "  <tbody>\n",
       "    <tr>\n",
       "      <th>2017-07-01 11:00:00</th>\n",
       "      <td>ETHUSD</td>\n",
       "      <td>257.13</td>\n",
       "      <td>679358.87</td>\n",
       "      <td>Saturday</td>\n",
       "      <td>5</td>\n",
       "    </tr>\n",
       "    <tr>\n",
       "      <th>2017-07-01 11:30:00</th>\n",
       "      <td>ETHUSD</td>\n",
       "      <td>263.12</td>\n",
       "      <td>824362.87</td>\n",
       "      <td>Saturday</td>\n",
       "      <td>5</td>\n",
       "    </tr>\n",
       "    <tr>\n",
       "      <th>2017-07-01 12:00:00</th>\n",
       "      <td>ETHUSD</td>\n",
       "      <td>263.12</td>\n",
       "      <td>824362.87</td>\n",
       "      <td>Saturday</td>\n",
       "      <td>5</td>\n",
       "    </tr>\n",
       "    <tr>\n",
       "      <th>2017-07-01 12:30:00</th>\n",
       "      <td>ETHUSD</td>\n",
       "      <td>275.01</td>\n",
       "      <td>3010787.99</td>\n",
       "      <td>Saturday</td>\n",
       "      <td>5</td>\n",
       "    </tr>\n",
       "    <tr>\n",
       "      <th>2017-07-01 13:00:00</th>\n",
       "      <td>ETHUSD</td>\n",
       "      <td>275.01</td>\n",
       "      <td>3010787.99</td>\n",
       "      <td>Saturday</td>\n",
       "      <td>5</td>\n",
       "    </tr>\n",
       "    <tr>\n",
       "      <th>...</th>\n",
       "      <td>...</td>\n",
       "      <td>...</td>\n",
       "      <td>...</td>\n",
       "      <td>...</td>\n",
       "      <td>...</td>\n",
       "    </tr>\n",
       "    <tr>\n",
       "      <th>2020-03-13 18:00:00</th>\n",
       "      <td>ETHUSD</td>\n",
       "      <td>128.93</td>\n",
       "      <td>4898735.81</td>\n",
       "      <td>Friday</td>\n",
       "      <td>4</td>\n",
       "    </tr>\n",
       "    <tr>\n",
       "      <th>2020-03-13 18:30:00</th>\n",
       "      <td>ETHUSD</td>\n",
       "      <td>134.03</td>\n",
       "      <td>7579741.09</td>\n",
       "      <td>Friday</td>\n",
       "      <td>4</td>\n",
       "    </tr>\n",
       "    <tr>\n",
       "      <th>2020-03-13 19:00:00</th>\n",
       "      <td>ETHUSD</td>\n",
       "      <td>134.03</td>\n",
       "      <td>7579741.09</td>\n",
       "      <td>Friday</td>\n",
       "      <td>4</td>\n",
       "    </tr>\n",
       "    <tr>\n",
       "      <th>2020-03-13 19:30:00</th>\n",
       "      <td>ETHUSD</td>\n",
       "      <td>124.85</td>\n",
       "      <td>1940673.93</td>\n",
       "      <td>Friday</td>\n",
       "      <td>4</td>\n",
       "    </tr>\n",
       "    <tr>\n",
       "      <th>2020-03-13 20:00:00</th>\n",
       "      <td>ETHUSD</td>\n",
       "      <td>124.85</td>\n",
       "      <td>1940673.93</td>\n",
       "      <td>Friday</td>\n",
       "      <td>4</td>\n",
       "    </tr>\n",
       "  </tbody>\n",
       "</table>\n",
       "<p>47347 rows × 5 columns</p>\n",
       "</div>"
      ],
      "text/plain": [
       "                     symbol   close      volume   weekday  dayofweek\n",
       "date                                                                \n",
       "2017-07-01 11:00:00  ETHUSD  257.13   679358.87  Saturday          5\n",
       "2017-07-01 11:30:00  ETHUSD  263.12   824362.87  Saturday          5\n",
       "2017-07-01 12:00:00  ETHUSD  263.12   824362.87  Saturday          5\n",
       "2017-07-01 12:30:00  ETHUSD  275.01  3010787.99  Saturday          5\n",
       "2017-07-01 13:00:00  ETHUSD  275.01  3010787.99  Saturday          5\n",
       "...                     ...     ...         ...       ...        ...\n",
       "2020-03-13 18:00:00  ETHUSD  128.93  4898735.81    Friday          4\n",
       "2020-03-13 18:30:00  ETHUSD  134.03  7579741.09    Friday          4\n",
       "2020-03-13 19:00:00  ETHUSD  134.03  7579741.09    Friday          4\n",
       "2020-03-13 19:30:00  ETHUSD  124.85  1940673.93    Friday          4\n",
       "2020-03-13 20:00:00  ETHUSD  124.85  1940673.93    Friday          4\n",
       "\n",
       "[47347 rows x 5 columns]"
      ]
     },
     "execution_count": 92,
     "metadata": {},
     "output_type": "execute_result"
    }
   ],
   "source": [
    "#back filling nulls last value\n",
    "df.asfreq('30T', method='bfill')"
   ]
  },
  {
   "cell_type": "markdown",
   "id": "97055e04",
   "metadata": {},
   "source": [
    "### Resampling - aggregate over time"
   ]
  },
  {
   "cell_type": "code",
   "execution_count": 93,
   "id": "31108ae0",
   "metadata": {},
   "outputs": [
    {
     "name": "stderr",
     "output_type": "stream",
     "text": [
      "/var/folders/_6/0nkpzhxj2_n85fz5s1rk__xr0000gn/T/ipykernel_7698/941734378.py:1: FutureWarning: The default value of numeric_only in DataFrameGroupBy.mean is deprecated. In a future version, numeric_only will default to False. Either specify numeric_only or select only columns which should be valid for the function.\n",
      "  df.resample('D').mean()\n"
     ]
    },
    {
     "data": {
      "text/html": [
       "<div>\n",
       "<style scoped>\n",
       "    .dataframe tbody tr th:only-of-type {\n",
       "        vertical-align: middle;\n",
       "    }\n",
       "\n",
       "    .dataframe tbody tr th {\n",
       "        vertical-align: top;\n",
       "    }\n",
       "\n",
       "    .dataframe thead th {\n",
       "        text-align: right;\n",
       "    }\n",
       "</style>\n",
       "<table border=\"1\" class=\"dataframe\">\n",
       "  <thead>\n",
       "    <tr style=\"text-align: right;\">\n",
       "      <th></th>\n",
       "      <th>close</th>\n",
       "      <th>volume</th>\n",
       "      <th>dayofweek</th>\n",
       "    </tr>\n",
       "    <tr>\n",
       "      <th>date</th>\n",
       "      <th></th>\n",
       "      <th></th>\n",
       "      <th></th>\n",
       "    </tr>\n",
       "  </thead>\n",
       "  <tbody>\n",
       "    <tr>\n",
       "      <th>2017-07-01</th>\n",
       "      <td>265.284615</td>\n",
       "      <td>2.198771e+06</td>\n",
       "      <td>5.0</td>\n",
       "    </tr>\n",
       "    <tr>\n",
       "      <th>2017-07-02</th>\n",
       "      <td>269.782500</td>\n",
       "      <td>2.177595e+06</td>\n",
       "      <td>6.0</td>\n",
       "    </tr>\n",
       "    <tr>\n",
       "      <th>2017-07-03</th>\n",
       "      <td>278.882083</td>\n",
       "      <td>1.459015e+06</td>\n",
       "      <td>0.0</td>\n",
       "    </tr>\n",
       "    <tr>\n",
       "      <th>2017-07-04</th>\n",
       "      <td>276.743333</td>\n",
       "      <td>1.254579e+06</td>\n",
       "      <td>1.0</td>\n",
       "    </tr>\n",
       "    <tr>\n",
       "      <th>2017-07-05</th>\n",
       "      <td>265.025833</td>\n",
       "      <td>1.797923e+06</td>\n",
       "      <td>2.0</td>\n",
       "    </tr>\n",
       "    <tr>\n",
       "      <th>...</th>\n",
       "      <td>...</td>\n",
       "      <td>...</td>\n",
       "      <td>...</td>\n",
       "    </tr>\n",
       "    <tr>\n",
       "      <th>2020-03-09</th>\n",
       "      <td>200.818333</td>\n",
       "      <td>3.804752e+06</td>\n",
       "      <td>0.0</td>\n",
       "    </tr>\n",
       "    <tr>\n",
       "      <th>2020-03-10</th>\n",
       "      <td>201.577500</td>\n",
       "      <td>1.553063e+06</td>\n",
       "      <td>1.0</td>\n",
       "    </tr>\n",
       "    <tr>\n",
       "      <th>2020-03-11</th>\n",
       "      <td>195.910417</td>\n",
       "      <td>1.894868e+06</td>\n",
       "      <td>2.0</td>\n",
       "    </tr>\n",
       "    <tr>\n",
       "      <th>2020-03-12</th>\n",
       "      <td>152.763333</td>\n",
       "      <td>7.503069e+06</td>\n",
       "      <td>3.0</td>\n",
       "    </tr>\n",
       "    <tr>\n",
       "      <th>2020-03-13</th>\n",
       "      <td>124.060476</td>\n",
       "      <td>6.869609e+06</td>\n",
       "      <td>4.0</td>\n",
       "    </tr>\n",
       "  </tbody>\n",
       "</table>\n",
       "<p>987 rows × 3 columns</p>\n",
       "</div>"
      ],
      "text/plain": [
       "                 close        volume  dayofweek\n",
       "date                                           \n",
       "2017-07-01  265.284615  2.198771e+06        5.0\n",
       "2017-07-02  269.782500  2.177595e+06        6.0\n",
       "2017-07-03  278.882083  1.459015e+06        0.0\n",
       "2017-07-04  276.743333  1.254579e+06        1.0\n",
       "2017-07-05  265.025833  1.797923e+06        2.0\n",
       "...                ...           ...        ...\n",
       "2020-03-09  200.818333  3.804752e+06        0.0\n",
       "2020-03-10  201.577500  1.553063e+06        1.0\n",
       "2020-03-11  195.910417  1.894868e+06        2.0\n",
       "2020-03-12  152.763333  7.503069e+06        3.0\n",
       "2020-03-13  124.060476  6.869609e+06        4.0\n",
       "\n",
       "[987 rows x 3 columns]"
      ]
     },
     "execution_count": 93,
     "metadata": {},
     "output_type": "execute_result"
    }
   ],
   "source": [
    "# fills nulls with dailt mean\n",
    "df.resample('D').mean() "
   ]
  },
  {
   "cell_type": "markdown",
   "id": "74ff74ef",
   "metadata": {},
   "source": [
    "### Rolling averages: smooths out short term fluctuations in time data highlighting long term trends"
   ]
  },
  {
   "cell_type": "markdown",
   "id": "2ed9a984",
   "metadata": {},
   "source": [
    "uses rolling()"
   ]
  },
  {
   "cell_type": "code",
   "execution_count": 94,
   "id": "aa8adb44",
   "metadata": {},
   "outputs": [
    {
     "name": "stderr",
     "output_type": "stream",
     "text": [
      "/var/folders/_6/0nkpzhxj2_n85fz5s1rk__xr0000gn/T/ipykernel_7698/3183812969.py:1: FutureWarning: Dropping of nuisance columns in rolling operations is deprecated; in a future version this will raise TypeError. Select only valid columns before calling the operation. Dropped columns were Index(['symbol', 'weekday'], dtype='object')\n",
      "  df.rolling(5).mean() #gives 5 days of rolling average\n"
     ]
    },
    {
     "data": {
      "text/html": [
       "<div>\n",
       "<style scoped>\n",
       "    .dataframe tbody tr th:only-of-type {\n",
       "        vertical-align: middle;\n",
       "    }\n",
       "\n",
       "    .dataframe tbody tr th {\n",
       "        vertical-align: top;\n",
       "    }\n",
       "\n",
       "    .dataframe thead th {\n",
       "        text-align: right;\n",
       "    }\n",
       "</style>\n",
       "<table border=\"1\" class=\"dataframe\">\n",
       "  <thead>\n",
       "    <tr style=\"text-align: right;\">\n",
       "      <th></th>\n",
       "      <th>close</th>\n",
       "      <th>volume</th>\n",
       "      <th>dayofweek</th>\n",
       "    </tr>\n",
       "    <tr>\n",
       "      <th>date</th>\n",
       "      <th></th>\n",
       "      <th></th>\n",
       "      <th></th>\n",
       "    </tr>\n",
       "  </thead>\n",
       "  <tbody>\n",
       "    <tr>\n",
       "      <th>2017-07-01 11:00:00</th>\n",
       "      <td>NaN</td>\n",
       "      <td>NaN</td>\n",
       "      <td>NaN</td>\n",
       "    </tr>\n",
       "    <tr>\n",
       "      <th>2017-07-01 12:00:00</th>\n",
       "      <td>NaN</td>\n",
       "      <td>NaN</td>\n",
       "      <td>NaN</td>\n",
       "    </tr>\n",
       "    <tr>\n",
       "      <th>2017-07-01 13:00:00</th>\n",
       "      <td>NaN</td>\n",
       "      <td>NaN</td>\n",
       "      <td>NaN</td>\n",
       "    </tr>\n",
       "    <tr>\n",
       "      <th>2017-07-01 14:00:00</th>\n",
       "      <td>NaN</td>\n",
       "      <td>NaN</td>\n",
       "      <td>NaN</td>\n",
       "    </tr>\n",
       "    <tr>\n",
       "      <th>2017-07-01 15:00:00</th>\n",
       "      <td>267.776</td>\n",
       "      <td>1543465.826</td>\n",
       "      <td>5.0</td>\n",
       "    </tr>\n",
       "    <tr>\n",
       "      <th>...</th>\n",
       "      <td>...</td>\n",
       "      <td>...</td>\n",
       "      <td>...</td>\n",
       "    </tr>\n",
       "    <tr>\n",
       "      <th>2020-03-13 16:00:00</th>\n",
       "      <td>120.588</td>\n",
       "      <td>5812728.210</td>\n",
       "      <td>4.0</td>\n",
       "    </tr>\n",
       "    <tr>\n",
       "      <th>2020-03-13 17:00:00</th>\n",
       "      <td>121.606</td>\n",
       "      <td>5582100.290</td>\n",
       "      <td>4.0</td>\n",
       "    </tr>\n",
       "    <tr>\n",
       "      <th>2020-03-13 18:00:00</th>\n",
       "      <td>127.616</td>\n",
       "      <td>4645300.866</td>\n",
       "      <td>4.0</td>\n",
       "    </tr>\n",
       "    <tr>\n",
       "      <th>2020-03-13 19:00:00</th>\n",
       "      <td>128.240</td>\n",
       "      <td>5414465.706</td>\n",
       "      <td>4.0</td>\n",
       "    </tr>\n",
       "    <tr>\n",
       "      <th>2020-03-13 20:00:00</th>\n",
       "      <td>129.836</td>\n",
       "      <td>4326805.292</td>\n",
       "      <td>4.0</td>\n",
       "    </tr>\n",
       "  </tbody>\n",
       "</table>\n",
       "<p>23674 rows × 3 columns</p>\n",
       "</div>"
      ],
      "text/plain": [
       "                       close       volume  dayofweek\n",
       "date                                                \n",
       "2017-07-01 11:00:00      NaN          NaN        NaN\n",
       "2017-07-01 12:00:00      NaN          NaN        NaN\n",
       "2017-07-01 13:00:00      NaN          NaN        NaN\n",
       "2017-07-01 14:00:00      NaN          NaN        NaN\n",
       "2017-07-01 15:00:00  267.776  1543465.826        5.0\n",
       "...                      ...          ...        ...\n",
       "2020-03-13 16:00:00  120.588  5812728.210        4.0\n",
       "2020-03-13 17:00:00  121.606  5582100.290        4.0\n",
       "2020-03-13 18:00:00  127.616  4645300.866        4.0\n",
       "2020-03-13 19:00:00  128.240  5414465.706        4.0\n",
       "2020-03-13 20:00:00  129.836  4326805.292        4.0\n",
       "\n",
       "[23674 rows x 3 columns]"
      ]
     },
     "execution_count": 94,
     "metadata": {},
     "output_type": "execute_result"
    }
   ],
   "source": [
    "df.rolling(5).mean() #gives 5 days of rolling average, gives nulls for chunks that are not 5 days long"
   ]
  },
  {
   "cell_type": "code",
   "execution_count": 96,
   "id": "f99df568",
   "metadata": {},
   "outputs": [
    {
     "name": "stderr",
     "output_type": "stream",
     "text": [
      "/var/folders/_6/0nkpzhxj2_n85fz5s1rk__xr0000gn/T/ipykernel_7698/3982715195.py:7: FutureWarning: The default value of numeric_only in DataFrameGroupBy.mean is deprecated. In a future version, numeric_only will default to False. Either specify numeric_only or select only columns which should be valid for the function.\n",
      "  df.resample('W').mean().rolling(4).mean().close.plot(label='4weeks')\n",
      "/var/folders/_6/0nkpzhxj2_n85fz5s1rk__xr0000gn/T/ipykernel_7698/3982715195.py:10: FutureWarning: The default value of numeric_only in DataFrameGroupBy.mean is deprecated. In a future version, numeric_only will default to False. Either specify numeric_only or select only columns which should be valid for the function.\n",
      "  df.resample('W').mean().rolling(12).mean().close.plot(label='12weeks')\n"
     ]
    },
    {
     "data": {
      "image/png": "[encoded data removed]",
      "text/plain": [
       "<Figure size 1200x800 with 1 Axes>"
      ]
     },
     "metadata": {},
     "output_type": "display_data"
    }
   ],
   "source": [
    "plt.figure(figsize=(12,8))\n",
    "\n",
    "#original granularity\n",
    "df.close.plot(label='original')\n",
    "\n",
    "#resample by week and look at 4 weeks rolling\n",
    "df.resample('W').mean().rolling(4).mean().close.plot(label='4weeks')\n",
    "\n",
    "#resample by week and look at 12 weeks rolling\n",
    "df.resample('W').mean().rolling(12).mean().close.plot(label='12weeks')\n",
    "\n",
    "plt.legend()\n",
    "plt.title('original vs rolling averages')\n",
    "plt.show()"
   ]
  },
  {
   "cell_type": "markdown",
   "id": "5467809c",
   "metadata": {},
   "source": [
    "Lagging or leading data"
   ]
  },
  {
   "cell_type": "markdown",
   "id": "f52df27e",
   "metadata": {},
   "source": [
    "use .shift: move data backwards and forwards\n",
    "use .diff: find the difference with the previous observation (or a specified further back observation)"
   ]
  },
  {
   "cell_type": "code",
   "execution_count": 98,
   "id": "8fed1b3a",
   "metadata": {},
   "outputs": [
    {
     "data": {
      "text/html": [
       "<div>\n",
       "<style scoped>\n",
       "    .dataframe tbody tr th:only-of-type {\n",
       "        vertical-align: middle;\n",
       "    }\n",
       "\n",
       "    .dataframe tbody tr th {\n",
       "        vertical-align: top;\n",
       "    }\n",
       "\n",
       "    .dataframe thead th {\n",
       "        text-align: right;\n",
       "    }\n",
       "</style>\n",
       "<table border=\"1\" class=\"dataframe\">\n",
       "  <thead>\n",
       "    <tr style=\"text-align: right;\">\n",
       "      <th></th>\n",
       "      <th>symbol</th>\n",
       "      <th>close</th>\n",
       "      <th>volume</th>\n",
       "      <th>weekday</th>\n",
       "      <th>dayofweek</th>\n",
       "    </tr>\n",
       "    <tr>\n",
       "      <th>date</th>\n",
       "      <th></th>\n",
       "      <th></th>\n",
       "      <th></th>\n",
       "      <th></th>\n",
       "      <th></th>\n",
       "    </tr>\n",
       "  </thead>\n",
       "  <tbody>\n",
       "    <tr>\n",
       "      <th>2017-07-01 11:00:00</th>\n",
       "      <td>None</td>\n",
       "      <td>NaN</td>\n",
       "      <td>NaN</td>\n",
       "      <td>None</td>\n",
       "      <td>NaN</td>\n",
       "    </tr>\n",
       "    <tr>\n",
       "      <th>2017-07-01 12:00:00</th>\n",
       "      <td>ETHUSD</td>\n",
       "      <td>257.13</td>\n",
       "      <td>679358.87</td>\n",
       "      <td>Saturday</td>\n",
       "      <td>5.0</td>\n",
       "    </tr>\n",
       "    <tr>\n",
       "      <th>2017-07-01 13:00:00</th>\n",
       "      <td>ETHUSD</td>\n",
       "      <td>263.12</td>\n",
       "      <td>824362.87</td>\n",
       "      <td>Saturday</td>\n",
       "      <td>5.0</td>\n",
       "    </tr>\n",
       "    <tr>\n",
       "      <th>2017-07-01 14:00:00</th>\n",
       "      <td>ETHUSD</td>\n",
       "      <td>275.01</td>\n",
       "      <td>3010787.99</td>\n",
       "      <td>Saturday</td>\n",
       "      <td>5.0</td>\n",
       "    </tr>\n",
       "    <tr>\n",
       "      <th>2017-07-01 15:00:00</th>\n",
       "      <td>ETHUSD</td>\n",
       "      <td>274.83</td>\n",
       "      <td>1702536.85</td>\n",
       "      <td>Saturday</td>\n",
       "      <td>5.0</td>\n",
       "    </tr>\n",
       "  </tbody>\n",
       "</table>\n",
       "</div>"
      ],
      "text/plain": [
       "                     symbol   close      volume   weekday  dayofweek\n",
       "date                                                                \n",
       "2017-07-01 11:00:00    None     NaN         NaN      None        NaN\n",
       "2017-07-01 12:00:00  ETHUSD  257.13   679358.87  Saturday        5.0\n",
       "2017-07-01 13:00:00  ETHUSD  263.12   824362.87  Saturday        5.0\n",
       "2017-07-01 14:00:00  ETHUSD  275.01  3010787.99  Saturday        5.0\n",
       "2017-07-01 15:00:00  ETHUSD  274.83  1702536.85  Saturday        5.0"
      ]
     },
     "execution_count": 98,
     "metadata": {},
     "output_type": "execute_result"
    }
   ],
   "source": [
    "df.shift(1).head() # can shift with negative value to shift back"
   ]
  },
  {
   "cell_type": "code",
   "execution_count": 99,
   "id": "3597ef5e",
   "metadata": {},
   "outputs": [
    {
     "data": {
      "text/plain": [
       "date\n",
       "2017-07-01 11:00:00      NaN\n",
       "2017-07-01 12:00:00     5.99\n",
       "2017-07-01 13:00:00    11.89\n",
       "2017-07-01 14:00:00    -0.18\n",
       "2017-07-01 15:00:00    -6.04\n",
       "                       ...  \n",
       "2020-03-13 16:00:00    10.70\n",
       "2020-03-13 17:00:00     6.23\n",
       "2020-03-13 18:00:00    -4.87\n",
       "2020-03-13 19:00:00     5.10\n",
       "2020-03-13 20:00:00    -9.18\n",
       "Name: close, Length: 23674, dtype: float64"
      ]
     },
     "execution_count": 99,
     "metadata": {},
     "output_type": "execute_result"
    }
   ],
   "source": [
    "df.close.diff(1) #shows difference between previous and current value"
   ]
  },
  {
   "cell_type": "markdown",
   "id": "3dc0c35d",
   "metadata": {},
   "source": [
    "### Recap"
   ]
  },
  {
   "cell_type": "markdown",
   "id": "a3e31867",
   "metadata": {},
   "source": [
    "\n",
    "\n",
    "    use datetime.datetime module\n",
    "    to cast as a date\n",
    "        .astype('datetime64')\n",
    "        pd.to_datetime()\n",
    "            can use format argument for funky dates\n",
    "    strftime notation\n",
    "        https://docs.python.org/3/library/datetime.html#strftime-and-strptime-behavior\n",
    "    attritubes and methods\n",
    "        https://pandas.pydata.org/docs/reference/api/pandas.DatetimeIndex.html\n",
    "    to make pandas time aware\n",
    "        Convert 'date' column to datetime object\n",
    "        Set the datetime column as index\n",
    "        Sort the datetime index\n",
    "    sampling methods\n",
    "        downsampling/ upsampling\n",
    "            .asfreq()\n",
    "            fill nulls\n",
    "                .ffill/.bfill\n",
    "        resampling\n",
    "            .resample()\n",
    "        rolling average\n",
    "            .rolling()\n",
    "\n"
   ]
  }
 ],
 "metadata": {
  "kernelspec": {
   "display_name": "Python 3 (ipykernel)",
   "language": "python",
   "name": "python3"
  },
  "language_info": {
   "codemirror_mode": {
    "name": "ipython",
    "version": 3
   },
   "file_extension": ".py",
   "mimetype": "text/x-python",
   "name": "python",
   "nbconvert_exporter": "python",
   "pygments_lexer": "ipython3",
   "version": "3.10.9"
  }
 },
 "nbformat": 4,
 "nbformat_minor": 5
}
